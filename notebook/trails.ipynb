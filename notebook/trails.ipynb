{
 "cells": [
  {
   "cell_type": "code",
   "execution_count": null,
   "id": "c4ba4293",
   "metadata": {},
   "outputs": [],
   "source": [
    "!pip install ipykernel -U --force-reinstall"
   ]
  },
  {
   "cell_type": "code",
   "execution_count": 1,
   "id": "0681ceb1",
   "metadata": {},
   "outputs": [
    {
     "name": "stdout",
     "output_type": "stream",
     "text": [
      "test is ok\n"
     ]
    }
   ],
   "source": [
    "print(\"test is ok\")"
   ]
  },
  {
   "cell_type": "code",
   "execution_count": 2,
   "metadata": {},
   "outputs": [
    {
     "data": {
      "text/plain": [
       "True"
      ]
     },
     "execution_count": 2,
     "metadata": {},
     "output_type": "execute_result"
    }
   ],
   "source": [
    "import os\n",
    "from dotenv import load_dotenv\n",
    "\n",
    "load_dotenv()\n",
    "\n"
   ]
  },
  {
   "cell_type": "code",
   "execution_count": 3,
   "metadata": {},
   "outputs": [
    {
     "name": "stderr",
     "output_type": "stream",
     "text": [
      "g:\\DataScienceProjects\\RAG-chatbot-AI\\GRAPH-RAG-Neo4J-Langchain-GROQ-llm\\graph-rag-01\\Lib\\site-packages\\tqdm\\auto.py:21: TqdmWarning: IProgress not found. Please update jupyter and ipywidgets. See https://ipywidgets.readthedocs.io/en/stable/user_install.html\n",
      "  from .autonotebook import tqdm as notebook_tqdm\n"
     ]
    },
    {
     "name": "stdout",
     "output_type": "stream",
     "text": [
      "[{'message': 'Neo4j connection successful!'}]\n"
     ]
    }
   ],
   "source": [
    "from langchain_neo4j import Neo4jGraph\n",
    "\n",
    "from langchain.chains import GraphCypherQAChain\n",
    "\n",
    "import os\n",
    "from dotenv import load_dotenv\n",
    "\n",
    "load_dotenv()\n",
    "\n",
    "#Read values\n",
    "neo4j_url = os.getenv(\"NEO4J_URL\")\n",
    "neo4j_user = os.getenv(\"NEO4J_USERNAME\")\n",
    "neo4j_pass = os.getenv(\"NEO4J_PASSWORD\")\n",
    "\n",
    "#Connect to Neo4j\n",
    "graph = Neo4jGraph(\n",
    "    url=neo4j_url,\n",
    "    username=neo4j_user,\n",
    "    password=neo4j_pass\n",
    ")\n",
    "\n",
    "# Optional: test query\n",
    "print(graph.query(\"RETURN 'Neo4j connection successful!' AS message\"))"
   ]
  },
  {
   "cell_type": "code",
   "execution_count": 4,
   "metadata": {},
   "outputs": [
    {
     "name": "stdout",
     "output_type": "stream",
     "text": [
      "Node properties:\n",
      "\n",
      "Relationship properties:\n",
      "\n",
      "The relationships:\n",
      "\n"
     ]
    }
   ],
   "source": [
    "from langchain_neo4j import Neo4jGraph\n",
    "from dotenv import load_dotenv\n",
    "import os\n",
    "\n",
    "load_dotenv()\n",
    "\n",
    "graph = Neo4jGraph(\n",
    "    url=os.getenv(\"NEO4J_URL\"),\n",
    "    username=os.getenv(\"NEO4J_USERNAME\"),\n",
    "    password=os.getenv(\"NEO4J_PASSWORD\")\n",
    ")\n",
    "\n",
    "#View schema (nodes, relationships, and properties)\n",
    "schema = graph.get_schema\n",
    "\n",
    "print(graph.get_schema)\n",
    "\n",
    "\n",
    "\n"
   ]
  },
  {
   "cell_type": "code",
   "execution_count": 5,
   "metadata": {},
   "outputs": [
    {
     "name": "stderr",
     "output_type": "stream",
     "text": [
      "g:\\DataScienceProjects\\RAG-chatbot-AI\\GRAPH-RAG-Neo4J-Langchain-GROQ-llm\\graph-rag-01\\Lib\\site-packages\\wikipedia\\wikipedia.py:389: GuessedAtParserWarning: No parser was explicitly specified, so I'm using the best available HTML parser for this system (\"lxml\"). This usually isn't a problem, but if you run this code on another system, or in a different virtual environment, it may use a different parser and behave differently.\n",
      "\n",
      "The code that caused this warning is on line 389 of the file g:\\DataScienceProjects\\RAG-chatbot-AI\\GRAPH-RAG-Neo4J-Langchain-GROQ-llm\\graph-rag-01\\Lib\\site-packages\\wikipedia\\wikipedia.py. To get rid of this warning, pass the additional argument 'features=\"lxml\"' to the BeautifulSoup constructor.\n",
      "\n",
      "  lis = BeautifulSoup(html).find_all('li')\n"
     ]
    },
    {
     "name": "stdout",
     "output_type": "stream",
     "text": [
      "Elizabeth I (7 September 1533 – 24 March 1603) was Queen of England and Ireland from 17 November 1558 until her death in 1603. She was the last and longest reigning monarch of the House of Tudor. Her eventful reign, and its effect on history and culture, gave name to the Elizabethan era.\n",
      "Elizabeth was the only surviving child of Henry VIII and his second wife, Anne Boleyn. When Elizabeth was two years old, her parents' marriage was annulled, her mother was executed, and Elizabeth was declared il\n"
     ]
    }
   ],
   "source": [
    "#bring wikipedia data from internet\n",
    "\n",
    "from langchain.document_loaders import WikipediaLoader\n",
    "raw_documents=WikipediaLoader(query=\"Elizabeth I\").load()\n",
    "\n",
    "print(raw_documents[0].page_content[:500])  # Print first 500 chars of content\n"
   ]
  },
  {
   "cell_type": "code",
   "execution_count": 6,
   "id": "52f621af",
   "metadata": {},
   "outputs": [
    {
     "name": "stdout",
     "output_type": "stream",
     "text": [
      "Requirement already satisfied: tiktoken in g:\\datascienceprojects\\rag-chatbot-ai\\graph-rag-neo4j-langchain-groq-llm\\graph-rag-01\\lib\\site-packages (0.12.0)\n",
      "Requirement already satisfied: regex>=2022.1.18 in g:\\datascienceprojects\\rag-chatbot-ai\\graph-rag-neo4j-langchain-groq-llm\\graph-rag-01\\lib\\site-packages (from tiktoken) (2025.9.18)\n",
      "Requirement already satisfied: requests>=2.26.0 in g:\\datascienceprojects\\rag-chatbot-ai\\graph-rag-neo4j-langchain-groq-llm\\graph-rag-01\\lib\\site-packages (from tiktoken) (2.32.5)\n",
      "Requirement already satisfied: charset_normalizer<4,>=2 in g:\\datascienceprojects\\rag-chatbot-ai\\graph-rag-neo4j-langchain-groq-llm\\graph-rag-01\\lib\\site-packages (from requests>=2.26.0->tiktoken) (3.4.3)\n",
      "Requirement already satisfied: idna<4,>=2.5 in g:\\datascienceprojects\\rag-chatbot-ai\\graph-rag-neo4j-langchain-groq-llm\\graph-rag-01\\lib\\site-packages (from requests>=2.26.0->tiktoken) (3.10)\n",
      "Requirement already satisfied: urllib3<3,>=1.21.1 in g:\\datascienceprojects\\rag-chatbot-ai\\graph-rag-neo4j-langchain-groq-llm\\graph-rag-01\\lib\\site-packages (from requests>=2.26.0->tiktoken) (2.5.0)\n",
      "Requirement already satisfied: certifi>=2017.4.17 in g:\\datascienceprojects\\rag-chatbot-ai\\graph-rag-neo4j-langchain-groq-llm\\graph-rag-01\\lib\\site-packages (from requests>=2.26.0->tiktoken) (2025.10.5)\n"
     ]
    },
    {
     "name": "stderr",
     "output_type": "stream",
     "text": [
      "\n",
      "[notice] A new release of pip is available: 23.2.1 -> 25.2\n",
      "[notice] To update, run: python.exe -m pip install --upgrade pip\n"
     ]
    }
   ],
   "source": [
    "!pip install tiktoken"
   ]
  },
  {
   "cell_type": "code",
   "execution_count": 7,
   "metadata": {},
   "outputs": [],
   "source": [
    "from langchain.text_splitter import TokenTextSplitter\n",
    "\n",
    "text_splitter= TokenTextSplitter(chunk_size=512, chunk_overlap=25)\n",
    "documents= text_splitter.split_documents(raw_documents[0:3])"
   ]
  },
  {
   "cell_type": "code",
   "execution_count": 8,
   "metadata": {},
   "outputs": [],
   "source": [
    "from langchain_groq import ChatGroq\n",
    "from dotenv import load_dotenv\n",
    "\n",
    "load_dotenv()\n",
    "\n",
    "llm= ChatGroq(\n",
    "    model=\"llama-3.3-70b-versatile\",\n",
    "    temperature=0.3\n",
    ")"
   ]
  },
  {
   "cell_type": "code",
   "execution_count": 9,
   "id": "ba4ffa30",
   "metadata": {},
   "outputs": [
    {
     "name": "stdout",
     "output_type": "stream",
     "text": [
      "['__builtins__', '__cached__', '__doc__', '__file__', '__loader__', '__name__', '__package__', '__path__', '__spec__', '__version__']\n"
     ]
    }
   ],
   "source": [
    "import langchain_experimental\n",
    "print(dir(langchain_experimental))\n"
   ]
  },
  {
   "cell_type": "code",
   "execution_count": 10,
   "id": "71bfd79f",
   "metadata": {},
   "outputs": [
    {
     "name": "stdout",
     "output_type": "stream",
     "text": [
      "Requirement already satisfied: langchain in g:\\datascienceprojects\\rag-chatbot-ai\\graph-rag-neo4j-langchain-groq-llm\\graph-rag-01\\lib\\site-packages (0.3.27)\n",
      "Collecting langchain\n",
      "  Obtaining dependency information for langchain from https://files.pythonhosted.org/packages/03/6c/41317c829368d72fe678f003a37a893d7f85c73413323343bf03fffff4e4/langchain-1.0.0a12-py3-none-any.whl.metadata\n",
      "  Using cached langchain-1.0.0a12-py3-none-any.whl.metadata (6.0 kB)\n",
      "Collecting langchain-core<2.0.0,>=1.0.0a6 (from langchain)\n",
      "  Obtaining dependency information for langchain-core<2.0.0,>=1.0.0a6 from https://files.pythonhosted.org/packages/ec/b8/9b5de5dc95e80020d13467071c81211d9ab53607ec68a26377431fc9cb70/langchain_core-1.0.0a8-py3-none-any.whl.metadata\n",
      "  Using cached langchain_core-1.0.0a8-py3-none-any.whl.metadata (2.6 kB)\n",
      "Requirement already satisfied: langgraph<2.0.0,>=1.0.0a4 in g:\\datascienceprojects\\rag-chatbot-ai\\graph-rag-neo4j-langchain-groq-llm\\graph-rag-01\\lib\\site-packages (from langchain) (1.0.0a4)\n",
      "Requirement already satisfied: pydantic<3.0.0,>=2.7.4 in g:\\datascienceprojects\\rag-chatbot-ai\\graph-rag-neo4j-langchain-groq-llm\\graph-rag-01\\lib\\site-packages (from langchain) (2.12.0)\n",
      "Requirement already satisfied: jsonpatch<2.0.0,>=1.33.0 in g:\\datascienceprojects\\rag-chatbot-ai\\graph-rag-neo4j-langchain-groq-llm\\graph-rag-01\\lib\\site-packages (from langchain-core<2.0.0,>=1.0.0a6->langchain) (1.33)\n",
      "Requirement already satisfied: langsmith<1.0.0,>=0.3.45 in g:\\datascienceprojects\\rag-chatbot-ai\\graph-rag-neo4j-langchain-groq-llm\\graph-rag-01\\lib\\site-packages (from langchain-core<2.0.0,>=1.0.0a6->langchain) (0.4.33)\n",
      "Requirement already satisfied: packaging<26.0.0,>=23.2.0 in g:\\datascienceprojects\\rag-chatbot-ai\\graph-rag-neo4j-langchain-groq-llm\\graph-rag-01\\lib\\site-packages (from langchain-core<2.0.0,>=1.0.0a6->langchain) (25.0)\n",
      "Requirement already satisfied: pyyaml<7.0.0,>=5.3.0 in g:\\datascienceprojects\\rag-chatbot-ai\\graph-rag-neo4j-langchain-groq-llm\\graph-rag-01\\lib\\site-packages (from langchain-core<2.0.0,>=1.0.0a6->langchain) (6.0.3)\n",
      "Requirement already satisfied: tenacity!=8.4.0,<10.0.0,>=8.1.0 in g:\\datascienceprojects\\rag-chatbot-ai\\graph-rag-neo4j-langchain-groq-llm\\graph-rag-01\\lib\\site-packages (from langchain-core<2.0.0,>=1.0.0a6->langchain) (9.1.2)\n",
      "Requirement already satisfied: typing-extensions<5.0.0,>=4.7.0 in g:\\datascienceprojects\\rag-chatbot-ai\\graph-rag-neo4j-langchain-groq-llm\\graph-rag-01\\lib\\site-packages (from langchain-core<2.0.0,>=1.0.0a6->langchain) (4.15.0)\n",
      "Requirement already satisfied: langgraph-checkpoint<3.0.0,>=2.1.0 in g:\\datascienceprojects\\rag-chatbot-ai\\graph-rag-neo4j-langchain-groq-llm\\graph-rag-01\\lib\\site-packages (from langgraph<2.0.0,>=1.0.0a4->langchain) (2.1.2)\n",
      "Requirement already satisfied: langgraph-prebuilt==0.7.0a2 in g:\\datascienceprojects\\rag-chatbot-ai\\graph-rag-neo4j-langchain-groq-llm\\graph-rag-01\\lib\\site-packages (from langgraph<2.0.0,>=1.0.0a4->langchain) (0.7.0a2)\n",
      "Requirement already satisfied: langgraph-sdk<0.3.0,>=0.2.2 in g:\\datascienceprojects\\rag-chatbot-ai\\graph-rag-neo4j-langchain-groq-llm\\graph-rag-01\\lib\\site-packages (from langgraph<2.0.0,>=1.0.0a4->langchain) (0.2.9)\n",
      "Requirement already satisfied: xxhash>=3.5.0 in g:\\datascienceprojects\\rag-chatbot-ai\\graph-rag-neo4j-langchain-groq-llm\\graph-rag-01\\lib\\site-packages (from langgraph<2.0.0,>=1.0.0a4->langchain) (3.6.0)\n",
      "Requirement already satisfied: annotated-types>=0.6.0 in g:\\datascienceprojects\\rag-chatbot-ai\\graph-rag-neo4j-langchain-groq-llm\\graph-rag-01\\lib\\site-packages (from pydantic<3.0.0,>=2.7.4->langchain) (0.7.0)\n",
      "Requirement already satisfied: pydantic-core==2.41.1 in g:\\datascienceprojects\\rag-chatbot-ai\\graph-rag-neo4j-langchain-groq-llm\\graph-rag-01\\lib\\site-packages (from pydantic<3.0.0,>=2.7.4->langchain) (2.41.1)\n",
      "Requirement already satisfied: typing-inspection>=0.4.2 in g:\\datascienceprojects\\rag-chatbot-ai\\graph-rag-neo4j-langchain-groq-llm\\graph-rag-01\\lib\\site-packages (from pydantic<3.0.0,>=2.7.4->langchain) (0.4.2)\n",
      "Requirement already satisfied: jsonpointer>=1.9 in g:\\datascienceprojects\\rag-chatbot-ai\\graph-rag-neo4j-langchain-groq-llm\\graph-rag-01\\lib\\site-packages (from jsonpatch<2.0.0,>=1.33.0->langchain-core<2.0.0,>=1.0.0a6->langchain) (3.0.0)\n",
      "Requirement already satisfied: ormsgpack>=1.10.0 in g:\\datascienceprojects\\rag-chatbot-ai\\graph-rag-neo4j-langchain-groq-llm\\graph-rag-01\\lib\\site-packages (from langgraph-checkpoint<3.0.0,>=2.1.0->langgraph<2.0.0,>=1.0.0a4->langchain) (1.10.0)\n",
      "Requirement already satisfied: httpx>=0.25.2 in g:\\datascienceprojects\\rag-chatbot-ai\\graph-rag-neo4j-langchain-groq-llm\\graph-rag-01\\lib\\site-packages (from langgraph-sdk<0.3.0,>=0.2.2->langgraph<2.0.0,>=1.0.0a4->langchain) (0.28.1)\n",
      "Requirement already satisfied: orjson>=3.10.1 in g:\\datascienceprojects\\rag-chatbot-ai\\graph-rag-neo4j-langchain-groq-llm\\graph-rag-01\\lib\\site-packages (from langgraph-sdk<0.3.0,>=0.2.2->langgraph<2.0.0,>=1.0.0a4->langchain) (3.11.3)\n",
      "Requirement already satisfied: requests-toolbelt>=1.0.0 in g:\\datascienceprojects\\rag-chatbot-ai\\graph-rag-neo4j-langchain-groq-llm\\graph-rag-01\\lib\\site-packages (from langsmith<1.0.0,>=0.3.45->langchain-core<2.0.0,>=1.0.0a6->langchain) (1.0.0)\n",
      "Requirement already satisfied: requests>=2.0.0 in g:\\datascienceprojects\\rag-chatbot-ai\\graph-rag-neo4j-langchain-groq-llm\\graph-rag-01\\lib\\site-packages (from langsmith<1.0.0,>=0.3.45->langchain-core<2.0.0,>=1.0.0a6->langchain) (2.32.5)\n",
      "Requirement already satisfied: zstandard>=0.23.0 in g:\\datascienceprojects\\rag-chatbot-ai\\graph-rag-neo4j-langchain-groq-llm\\graph-rag-01\\lib\\site-packages (from langsmith<1.0.0,>=0.3.45->langchain-core<2.0.0,>=1.0.0a6->langchain) (0.25.0)\n",
      "Requirement already satisfied: anyio in g:\\datascienceprojects\\rag-chatbot-ai\\graph-rag-neo4j-langchain-groq-llm\\graph-rag-01\\lib\\site-packages (from httpx>=0.25.2->langgraph-sdk<0.3.0,>=0.2.2->langgraph<2.0.0,>=1.0.0a4->langchain) (4.11.0)\n",
      "Requirement already satisfied: certifi in g:\\datascienceprojects\\rag-chatbot-ai\\graph-rag-neo4j-langchain-groq-llm\\graph-rag-01\\lib\\site-packages (from httpx>=0.25.2->langgraph-sdk<0.3.0,>=0.2.2->langgraph<2.0.0,>=1.0.0a4->langchain) (2025.10.5)\n",
      "Requirement already satisfied: httpcore==1.* in g:\\datascienceprojects\\rag-chatbot-ai\\graph-rag-neo4j-langchain-groq-llm\\graph-rag-01\\lib\\site-packages (from httpx>=0.25.2->langgraph-sdk<0.3.0,>=0.2.2->langgraph<2.0.0,>=1.0.0a4->langchain) (1.0.9)\n",
      "Requirement already satisfied: idna in g:\\datascienceprojects\\rag-chatbot-ai\\graph-rag-neo4j-langchain-groq-llm\\graph-rag-01\\lib\\site-packages (from httpx>=0.25.2->langgraph-sdk<0.3.0,>=0.2.2->langgraph<2.0.0,>=1.0.0a4->langchain) (3.10)\n",
      "Requirement already satisfied: h11>=0.16 in g:\\datascienceprojects\\rag-chatbot-ai\\graph-rag-neo4j-langchain-groq-llm\\graph-rag-01\\lib\\site-packages (from httpcore==1.*->httpx>=0.25.2->langgraph-sdk<0.3.0,>=0.2.2->langgraph<2.0.0,>=1.0.0a4->langchain) (0.16.0)\n",
      "Requirement already satisfied: charset_normalizer<4,>=2 in g:\\datascienceprojects\\rag-chatbot-ai\\graph-rag-neo4j-langchain-groq-llm\\graph-rag-01\\lib\\site-packages (from requests>=2.0.0->langsmith<1.0.0,>=0.3.45->langchain-core<2.0.0,>=1.0.0a6->langchain) (3.4.3)\n",
      "Requirement already satisfied: urllib3<3,>=1.21.1 in g:\\datascienceprojects\\rag-chatbot-ai\\graph-rag-neo4j-langchain-groq-llm\\graph-rag-01\\lib\\site-packages (from requests>=2.0.0->langsmith<1.0.0,>=0.3.45->langchain-core<2.0.0,>=1.0.0a6->langchain) (2.5.0)\n",
      "Requirement already satisfied: sniffio>=1.1 in g:\\datascienceprojects\\rag-chatbot-ai\\graph-rag-neo4j-langchain-groq-llm\\graph-rag-01\\lib\\site-packages (from anyio->httpx>=0.25.2->langgraph-sdk<0.3.0,>=0.2.2->langgraph<2.0.0,>=1.0.0a4->langchain) (1.3.1)\n",
      "Using cached langchain-1.0.0a12-py3-none-any.whl (88 kB)\n",
      "Using cached langchain_core-1.0.0a8-py3-none-any.whl (475 kB)\n",
      "Installing collected packages: langchain-core, langchain\n",
      "  Attempting uninstall: langchain-core\n",
      "    Found existing installation: langchain-core 0.3.78\n",
      "    Uninstalling langchain-core-0.3.78:\n",
      "      Successfully uninstalled langchain-core-0.3.78\n",
      "  Attempting uninstall: langchain\n",
      "    Found existing installation: langchain 0.3.27\n",
      "    Uninstalling langchain-0.3.27:\n",
      "      Successfully uninstalled langchain-0.3.27\n",
      "Successfully installed langchain-1.0.0a12 langchain-core-1.0.0a8\n"
     ]
    },
    {
     "name": "stderr",
     "output_type": "stream",
     "text": [
      "ERROR: pip's dependency resolver does not currently take into account all the packages that are installed. This behaviour is the source of the following dependency conflicts.\n",
      "langchain-experimental 0.3.4 requires langchain-core<0.4.0,>=0.3.28, but you have langchain-core 1.0.0a8 which is incompatible.\n",
      "langchain-groq 0.3.8 requires langchain-core<1.0.0,>=0.3.75, but you have langchain-core 1.0.0a8 which is incompatible.\n",
      "langchain-neo4j 0.5.0 requires langchain<0.4.0,>=0.3.7, but you have langchain 1.0.0a12 which is incompatible.\n",
      "langchain-neo4j 0.5.0 requires langchain-core<0.4.0,>=0.3.39, but you have langchain-core 1.0.0a8 which is incompatible.\n",
      "\n",
      "[notice] A new release of pip is available: 23.2.1 -> 25.2\n",
      "[notice] To update, run: python.exe -m pip install --upgrade pip\n"
     ]
    }
   ],
   "source": [
    "!pip install --upgrade --pre langchain\n"
   ]
  },
  {
   "cell_type": "code",
   "execution_count": 11,
   "id": "1a6db8a2",
   "metadata": {},
   "outputs": [
    {
     "name": "stdout",
     "output_type": "stream",
     "text": [
      "['__builtins__', '__cached__', '__doc__', '__file__', '__loader__', '__name__', '__package__', '__path__', '__spec__', '__version__']\n"
     ]
    }
   ],
   "source": [
    "\n",
    "import langchain_experimental\n",
    "print(dir(langchain_experimental))\n"
   ]
  },
  {
   "cell_type": "code",
   "execution_count": 12,
   "id": "862be239",
   "metadata": {},
   "outputs": [
    {
     "name": "stdout",
     "output_type": "stream",
     "text": [
      "0.3.27\n"
     ]
    }
   ],
   "source": [
    "import langchain\n",
    "print(langchain.__version__)\n"
   ]
  },
  {
   "cell_type": "code",
   "execution_count": 13,
   "id": "141cbc5c",
   "metadata": {},
   "outputs": [
    {
     "name": "stdout",
     "output_type": "stream",
     "text": [
      "Requirement already satisfied: langchain-core in g:\\datascienceprojects\\rag-chatbot-ai\\graph-rag-neo4j-langchain-groq-llm\\graph-rag-01\\lib\\site-packages (1.0.0a8)\n",
      "Requirement already satisfied: jsonpatch<2.0.0,>=1.33.0 in g:\\datascienceprojects\\rag-chatbot-ai\\graph-rag-neo4j-langchain-groq-llm\\graph-rag-01\\lib\\site-packages (from langchain-core) (1.33)\n",
      "Requirement already satisfied: langsmith<1.0.0,>=0.3.45 in g:\\datascienceprojects\\rag-chatbot-ai\\graph-rag-neo4j-langchain-groq-llm\\graph-rag-01\\lib\\site-packages (from langchain-core) (0.4.33)\n",
      "Requirement already satisfied: packaging<26.0.0,>=23.2.0 in g:\\datascienceprojects\\rag-chatbot-ai\\graph-rag-neo4j-langchain-groq-llm\\graph-rag-01\\lib\\site-packages (from langchain-core) (25.0)\n",
      "Requirement already satisfied: pydantic<3.0.0,>=2.7.4 in g:\\datascienceprojects\\rag-chatbot-ai\\graph-rag-neo4j-langchain-groq-llm\\graph-rag-01\\lib\\site-packages (from langchain-core) (2.12.0)\n",
      "Requirement already satisfied: pyyaml<7.0.0,>=5.3.0 in g:\\datascienceprojects\\rag-chatbot-ai\\graph-rag-neo4j-langchain-groq-llm\\graph-rag-01\\lib\\site-packages (from langchain-core) (6.0.3)\n",
      "Requirement already satisfied: tenacity!=8.4.0,<10.0.0,>=8.1.0 in g:\\datascienceprojects\\rag-chatbot-ai\\graph-rag-neo4j-langchain-groq-llm\\graph-rag-01\\lib\\site-packages (from langchain-core) (9.1.2)\n",
      "Requirement already satisfied: typing-extensions<5.0.0,>=4.7.0 in g:\\datascienceprojects\\rag-chatbot-ai\\graph-rag-neo4j-langchain-groq-llm\\graph-rag-01\\lib\\site-packages (from langchain-core) (4.15.0)\n",
      "Requirement already satisfied: jsonpointer>=1.9 in g:\\datascienceprojects\\rag-chatbot-ai\\graph-rag-neo4j-langchain-groq-llm\\graph-rag-01\\lib\\site-packages (from jsonpatch<2.0.0,>=1.33.0->langchain-core) (3.0.0)\n",
      "Requirement already satisfied: httpx<1,>=0.23.0 in g:\\datascienceprojects\\rag-chatbot-ai\\graph-rag-neo4j-langchain-groq-llm\\graph-rag-01\\lib\\site-packages (from langsmith<1.0.0,>=0.3.45->langchain-core) (0.28.1)\n",
      "Requirement already satisfied: orjson>=3.9.14 in g:\\datascienceprojects\\rag-chatbot-ai\\graph-rag-neo4j-langchain-groq-llm\\graph-rag-01\\lib\\site-packages (from langsmith<1.0.0,>=0.3.45->langchain-core) (3.11.3)\n",
      "Requirement already satisfied: requests-toolbelt>=1.0.0 in g:\\datascienceprojects\\rag-chatbot-ai\\graph-rag-neo4j-langchain-groq-llm\\graph-rag-01\\lib\\site-packages (from langsmith<1.0.0,>=0.3.45->langchain-core) (1.0.0)\n",
      "Requirement already satisfied: requests>=2.0.0 in g:\\datascienceprojects\\rag-chatbot-ai\\graph-rag-neo4j-langchain-groq-llm\\graph-rag-01\\lib\\site-packages (from langsmith<1.0.0,>=0.3.45->langchain-core) (2.32.5)\n",
      "Requirement already satisfied: zstandard>=0.23.0 in g:\\datascienceprojects\\rag-chatbot-ai\\graph-rag-neo4j-langchain-groq-llm\\graph-rag-01\\lib\\site-packages (from langsmith<1.0.0,>=0.3.45->langchain-core) (0.25.0)\n",
      "Requirement already satisfied: annotated-types>=0.6.0 in g:\\datascienceprojects\\rag-chatbot-ai\\graph-rag-neo4j-langchain-groq-llm\\graph-rag-01\\lib\\site-packages (from pydantic<3.0.0,>=2.7.4->langchain-core) (0.7.0)\n",
      "Requirement already satisfied: pydantic-core==2.41.1 in g:\\datascienceprojects\\rag-chatbot-ai\\graph-rag-neo4j-langchain-groq-llm\\graph-rag-01\\lib\\site-packages (from pydantic<3.0.0,>=2.7.4->langchain-core) (2.41.1)\n",
      "Requirement already satisfied: typing-inspection>=0.4.2 in g:\\datascienceprojects\\rag-chatbot-ai\\graph-rag-neo4j-langchain-groq-llm\\graph-rag-01\\lib\\site-packages (from pydantic<3.0.0,>=2.7.4->langchain-core) (0.4.2)\n",
      "Requirement already satisfied: anyio in g:\\datascienceprojects\\rag-chatbot-ai\\graph-rag-neo4j-langchain-groq-llm\\graph-rag-01\\lib\\site-packages (from httpx<1,>=0.23.0->langsmith<1.0.0,>=0.3.45->langchain-core) (4.11.0)\n",
      "Requirement already satisfied: certifi in g:\\datascienceprojects\\rag-chatbot-ai\\graph-rag-neo4j-langchain-groq-llm\\graph-rag-01\\lib\\site-packages (from httpx<1,>=0.23.0->langsmith<1.0.0,>=0.3.45->langchain-core) (2025.10.5)\n",
      "Requirement already satisfied: httpcore==1.* in g:\\datascienceprojects\\rag-chatbot-ai\\graph-rag-neo4j-langchain-groq-llm\\graph-rag-01\\lib\\site-packages (from httpx<1,>=0.23.0->langsmith<1.0.0,>=0.3.45->langchain-core) (1.0.9)\n",
      "Requirement already satisfied: idna in g:\\datascienceprojects\\rag-chatbot-ai\\graph-rag-neo4j-langchain-groq-llm\\graph-rag-01\\lib\\site-packages (from httpx<1,>=0.23.0->langsmith<1.0.0,>=0.3.45->langchain-core) (3.10)\n",
      "Requirement already satisfied: h11>=0.16 in g:\\datascienceprojects\\rag-chatbot-ai\\graph-rag-neo4j-langchain-groq-llm\\graph-rag-01\\lib\\site-packages (from httpcore==1.*->httpx<1,>=0.23.0->langsmith<1.0.0,>=0.3.45->langchain-core) (0.16.0)\n",
      "Requirement already satisfied: charset_normalizer<4,>=2 in g:\\datascienceprojects\\rag-chatbot-ai\\graph-rag-neo4j-langchain-groq-llm\\graph-rag-01\\lib\\site-packages (from requests>=2.0.0->langsmith<1.0.0,>=0.3.45->langchain-core) (3.4.3)\n",
      "Requirement already satisfied: urllib3<3,>=1.21.1 in g:\\datascienceprojects\\rag-chatbot-ai\\graph-rag-neo4j-langchain-groq-llm\\graph-rag-01\\lib\\site-packages (from requests>=2.0.0->langsmith<1.0.0,>=0.3.45->langchain-core) (2.5.0)\n",
      "Requirement already satisfied: sniffio>=1.1 in g:\\datascienceprojects\\rag-chatbot-ai\\graph-rag-neo4j-langchain-groq-llm\\graph-rag-01\\lib\\site-packages (from anyio->httpx<1,>=0.23.0->langsmith<1.0.0,>=0.3.45->langchain-core) (1.3.1)\n"
     ]
    },
    {
     "name": "stderr",
     "output_type": "stream",
     "text": [
      "\n",
      "[notice] A new release of pip is available: 23.2.1 -> 25.2\n",
      "[notice] To update, run: python.exe -m pip install --upgrade pip\n"
     ]
    }
   ],
   "source": [
    "!pip install langchain-core"
   ]
  },
  {
   "cell_type": "code",
   "execution_count": 14,
   "id": "0e1ea521",
   "metadata": {},
   "outputs": [
    {
     "name": "stdout",
     "output_type": "stream",
     "text": [
      "Requirement already satisfied: langchain-experimental in g:\\datascienceprojects\\rag-chatbot-ai\\graph-rag-neo4j-langchain-groq-llm\\graph-rag-01\\lib\\site-packages (0.3.4)\n",
      "Requirement already satisfied: langchain-community<0.4.0,>=0.3.0 in g:\\datascienceprojects\\rag-chatbot-ai\\graph-rag-neo4j-langchain-groq-llm\\graph-rag-01\\lib\\site-packages (from langchain-experimental) (0.3.31)\n",
      "Collecting langchain-core<0.4.0,>=0.3.28 (from langchain-experimental)\n",
      "  Obtaining dependency information for langchain-core<0.4.0,>=0.3.28 from https://files.pythonhosted.org/packages/9c/a7/ff35c108c4863c1bb99724a4253ff2324aea5789d689dd59424c07df1199/langchain_core-0.3.78-py3-none-any.whl.metadata\n",
      "  Using cached langchain_core-0.3.78-py3-none-any.whl.metadata (3.2 kB)\n",
      "Requirement already satisfied: langchain<2.0.0,>=0.3.27 in g:\\datascienceprojects\\rag-chatbot-ai\\graph-rag-neo4j-langchain-groq-llm\\graph-rag-01\\lib\\site-packages (from langchain-community<0.4.0,>=0.3.0->langchain-experimental) (1.0.0a12)\n",
      "Requirement already satisfied: SQLAlchemy<3.0.0,>=1.4.0 in g:\\datascienceprojects\\rag-chatbot-ai\\graph-rag-neo4j-langchain-groq-llm\\graph-rag-01\\lib\\site-packages (from langchain-community<0.4.0,>=0.3.0->langchain-experimental) (2.0.43)\n",
      "Requirement already satisfied: requests<3.0.0,>=2.32.5 in g:\\datascienceprojects\\rag-chatbot-ai\\graph-rag-neo4j-langchain-groq-llm\\graph-rag-01\\lib\\site-packages (from langchain-community<0.4.0,>=0.3.0->langchain-experimental) (2.32.5)\n",
      "Requirement already satisfied: PyYAML<7.0.0,>=5.3.0 in g:\\datascienceprojects\\rag-chatbot-ai\\graph-rag-neo4j-langchain-groq-llm\\graph-rag-01\\lib\\site-packages (from langchain-community<0.4.0,>=0.3.0->langchain-experimental) (6.0.3)\n",
      "Requirement already satisfied: aiohttp<4.0.0,>=3.8.3 in g:\\datascienceprojects\\rag-chatbot-ai\\graph-rag-neo4j-langchain-groq-llm\\graph-rag-01\\lib\\site-packages (from langchain-community<0.4.0,>=0.3.0->langchain-experimental) (3.13.0)\n",
      "Requirement already satisfied: tenacity!=8.4.0,<10.0.0,>=8.1.0 in g:\\datascienceprojects\\rag-chatbot-ai\\graph-rag-neo4j-langchain-groq-llm\\graph-rag-01\\lib\\site-packages (from langchain-community<0.4.0,>=0.3.0->langchain-experimental) (9.1.2)\n",
      "Requirement already satisfied: dataclasses-json<0.7.0,>=0.6.7 in g:\\datascienceprojects\\rag-chatbot-ai\\graph-rag-neo4j-langchain-groq-llm\\graph-rag-01\\lib\\site-packages (from langchain-community<0.4.0,>=0.3.0->langchain-experimental) (0.6.7)\n",
      "Requirement already satisfied: pydantic-settings<3.0.0,>=2.10.1 in g:\\datascienceprojects\\rag-chatbot-ai\\graph-rag-neo4j-langchain-groq-llm\\graph-rag-01\\lib\\site-packages (from langchain-community<0.4.0,>=0.3.0->langchain-experimental) (2.11.0)\n",
      "Requirement already satisfied: langsmith<1.0.0,>=0.1.125 in g:\\datascienceprojects\\rag-chatbot-ai\\graph-rag-neo4j-langchain-groq-llm\\graph-rag-01\\lib\\site-packages (from langchain-community<0.4.0,>=0.3.0->langchain-experimental) (0.4.33)\n",
      "Requirement already satisfied: httpx-sse<1.0.0,>=0.4.0 in g:\\datascienceprojects\\rag-chatbot-ai\\graph-rag-neo4j-langchain-groq-llm\\graph-rag-01\\lib\\site-packages (from langchain-community<0.4.0,>=0.3.0->langchain-experimental) (0.4.2)\n",
      "Requirement already satisfied: numpy>=1.26.2 in g:\\datascienceprojects\\rag-chatbot-ai\\graph-rag-neo4j-langchain-groq-llm\\graph-rag-01\\lib\\site-packages (from langchain-community<0.4.0,>=0.3.0->langchain-experimental) (2.3.3)\n",
      "Requirement already satisfied: jsonpatch<2.0.0,>=1.33.0 in g:\\datascienceprojects\\rag-chatbot-ai\\graph-rag-neo4j-langchain-groq-llm\\graph-rag-01\\lib\\site-packages (from langchain-core<0.4.0,>=0.3.28->langchain-experimental) (1.33)\n",
      "Requirement already satisfied: typing-extensions<5.0.0,>=4.7.0 in g:\\datascienceprojects\\rag-chatbot-ai\\graph-rag-neo4j-langchain-groq-llm\\graph-rag-01\\lib\\site-packages (from langchain-core<0.4.0,>=0.3.28->langchain-experimental) (4.15.0)\n",
      "Requirement already satisfied: packaging<26.0.0,>=23.2.0 in g:\\datascienceprojects\\rag-chatbot-ai\\graph-rag-neo4j-langchain-groq-llm\\graph-rag-01\\lib\\site-packages (from langchain-core<0.4.0,>=0.3.28->langchain-experimental) (25.0)\n",
      "Requirement already satisfied: pydantic<3.0.0,>=2.7.4 in g:\\datascienceprojects\\rag-chatbot-ai\\graph-rag-neo4j-langchain-groq-llm\\graph-rag-01\\lib\\site-packages (from langchain-core<0.4.0,>=0.3.28->langchain-experimental) (2.12.0)\n",
      "Requirement already satisfied: aiohappyeyeballs>=2.5.0 in g:\\datascienceprojects\\rag-chatbot-ai\\graph-rag-neo4j-langchain-groq-llm\\graph-rag-01\\lib\\site-packages (from aiohttp<4.0.0,>=3.8.3->langchain-community<0.4.0,>=0.3.0->langchain-experimental) (2.6.1)\n",
      "Requirement already satisfied: aiosignal>=1.4.0 in g:\\datascienceprojects\\rag-chatbot-ai\\graph-rag-neo4j-langchain-groq-llm\\graph-rag-01\\lib\\site-packages (from aiohttp<4.0.0,>=3.8.3->langchain-community<0.4.0,>=0.3.0->langchain-experimental) (1.4.0)\n",
      "Requirement already satisfied: attrs>=17.3.0 in g:\\datascienceprojects\\rag-chatbot-ai\\graph-rag-neo4j-langchain-groq-llm\\graph-rag-01\\lib\\site-packages (from aiohttp<4.0.0,>=3.8.3->langchain-community<0.4.0,>=0.3.0->langchain-experimental) (25.4.0)\n",
      "Requirement already satisfied: frozenlist>=1.1.1 in g:\\datascienceprojects\\rag-chatbot-ai\\graph-rag-neo4j-langchain-groq-llm\\graph-rag-01\\lib\\site-packages (from aiohttp<4.0.0,>=3.8.3->langchain-community<0.4.0,>=0.3.0->langchain-experimental) (1.8.0)\n",
      "Requirement already satisfied: multidict<7.0,>=4.5 in g:\\datascienceprojects\\rag-chatbot-ai\\graph-rag-neo4j-langchain-groq-llm\\graph-rag-01\\lib\\site-packages (from aiohttp<4.0.0,>=3.8.3->langchain-community<0.4.0,>=0.3.0->langchain-experimental) (6.7.0)\n",
      "Requirement already satisfied: propcache>=0.2.0 in g:\\datascienceprojects\\rag-chatbot-ai\\graph-rag-neo4j-langchain-groq-llm\\graph-rag-01\\lib\\site-packages (from aiohttp<4.0.0,>=3.8.3->langchain-community<0.4.0,>=0.3.0->langchain-experimental) (0.4.0)\n",
      "Requirement already satisfied: yarl<2.0,>=1.17.0 in g:\\datascienceprojects\\rag-chatbot-ai\\graph-rag-neo4j-langchain-groq-llm\\graph-rag-01\\lib\\site-packages (from aiohttp<4.0.0,>=3.8.3->langchain-community<0.4.0,>=0.3.0->langchain-experimental) (1.22.0)\n",
      "Requirement already satisfied: marshmallow<4.0.0,>=3.18.0 in g:\\datascienceprojects\\rag-chatbot-ai\\graph-rag-neo4j-langchain-groq-llm\\graph-rag-01\\lib\\site-packages (from dataclasses-json<0.7.0,>=0.6.7->langchain-community<0.4.0,>=0.3.0->langchain-experimental) (3.26.1)\n",
      "Requirement already satisfied: typing-inspect<1,>=0.4.0 in g:\\datascienceprojects\\rag-chatbot-ai\\graph-rag-neo4j-langchain-groq-llm\\graph-rag-01\\lib\\site-packages (from dataclasses-json<0.7.0,>=0.6.7->langchain-community<0.4.0,>=0.3.0->langchain-experimental) (0.9.0)\n",
      "Requirement already satisfied: jsonpointer>=1.9 in g:\\datascienceprojects\\rag-chatbot-ai\\graph-rag-neo4j-langchain-groq-llm\\graph-rag-01\\lib\\site-packages (from jsonpatch<2.0.0,>=1.33.0->langchain-core<0.4.0,>=0.3.28->langchain-experimental) (3.0.0)\n",
      "INFO: pip is looking at multiple versions of langchain to determine which version is compatible with other requirements. This could take a while.\n",
      "Collecting langchain<2.0.0,>=0.3.27 (from langchain-community<0.4.0,>=0.3.0->langchain-experimental)\n",
      "  Obtaining dependency information for langchain<2.0.0,>=0.3.27 from https://files.pythonhosted.org/packages/f6/d5/4861816a95b2f6993f1360cfb605aacb015506ee2090433a71de9cca8477/langchain-0.3.27-py3-none-any.whl.metadata\n",
      "  Using cached langchain-0.3.27-py3-none-any.whl.metadata (7.8 kB)\n",
      "Requirement already satisfied: langchain-text-splitters<1.0.0,>=0.3.9 in g:\\datascienceprojects\\rag-chatbot-ai\\graph-rag-neo4j-langchain-groq-llm\\graph-rag-01\\lib\\site-packages (from langchain<2.0.0,>=0.3.27->langchain-community<0.4.0,>=0.3.0->langchain-experimental) (0.3.11)\n",
      "Requirement already satisfied: httpx<1,>=0.23.0 in g:\\datascienceprojects\\rag-chatbot-ai\\graph-rag-neo4j-langchain-groq-llm\\graph-rag-01\\lib\\site-packages (from langsmith<1.0.0,>=0.1.125->langchain-community<0.4.0,>=0.3.0->langchain-experimental) (0.28.1)\n",
      "Requirement already satisfied: orjson>=3.9.14 in g:\\datascienceprojects\\rag-chatbot-ai\\graph-rag-neo4j-langchain-groq-llm\\graph-rag-01\\lib\\site-packages (from langsmith<1.0.0,>=0.1.125->langchain-community<0.4.0,>=0.3.0->langchain-experimental) (3.11.3)\n",
      "Requirement already satisfied: requests-toolbelt>=1.0.0 in g:\\datascienceprojects\\rag-chatbot-ai\\graph-rag-neo4j-langchain-groq-llm\\graph-rag-01\\lib\\site-packages (from langsmith<1.0.0,>=0.1.125->langchain-community<0.4.0,>=0.3.0->langchain-experimental) (1.0.0)\n",
      "Requirement already satisfied: zstandard>=0.23.0 in g:\\datascienceprojects\\rag-chatbot-ai\\graph-rag-neo4j-langchain-groq-llm\\graph-rag-01\\lib\\site-packages (from langsmith<1.0.0,>=0.1.125->langchain-community<0.4.0,>=0.3.0->langchain-experimental) (0.25.0)\n",
      "Requirement already satisfied: annotated-types>=0.6.0 in g:\\datascienceprojects\\rag-chatbot-ai\\graph-rag-neo4j-langchain-groq-llm\\graph-rag-01\\lib\\site-packages (from pydantic<3.0.0,>=2.7.4->langchain-core<0.4.0,>=0.3.28->langchain-experimental) (0.7.0)\n",
      "Requirement already satisfied: pydantic-core==2.41.1 in g:\\datascienceprojects\\rag-chatbot-ai\\graph-rag-neo4j-langchain-groq-llm\\graph-rag-01\\lib\\site-packages (from pydantic<3.0.0,>=2.7.4->langchain-core<0.4.0,>=0.3.28->langchain-experimental) (2.41.1)\n",
      "Requirement already satisfied: typing-inspection>=0.4.2 in g:\\datascienceprojects\\rag-chatbot-ai\\graph-rag-neo4j-langchain-groq-llm\\graph-rag-01\\lib\\site-packages (from pydantic<3.0.0,>=2.7.4->langchain-core<0.4.0,>=0.3.28->langchain-experimental) (0.4.2)\n",
      "Requirement already satisfied: python-dotenv>=0.21.0 in g:\\datascienceprojects\\rag-chatbot-ai\\graph-rag-neo4j-langchain-groq-llm\\graph-rag-01\\lib\\site-packages (from pydantic-settings<3.0.0,>=2.10.1->langchain-community<0.4.0,>=0.3.0->langchain-experimental) (1.1.1)\n",
      "Requirement already satisfied: charset_normalizer<4,>=2 in g:\\datascienceprojects\\rag-chatbot-ai\\graph-rag-neo4j-langchain-groq-llm\\graph-rag-01\\lib\\site-packages (from requests<3.0.0,>=2.32.5->langchain-community<0.4.0,>=0.3.0->langchain-experimental) (3.4.3)\n",
      "Requirement already satisfied: idna<4,>=2.5 in g:\\datascienceprojects\\rag-chatbot-ai\\graph-rag-neo4j-langchain-groq-llm\\graph-rag-01\\lib\\site-packages (from requests<3.0.0,>=2.32.5->langchain-community<0.4.0,>=0.3.0->langchain-experimental) (3.10)\n",
      "Requirement already satisfied: urllib3<3,>=1.21.1 in g:\\datascienceprojects\\rag-chatbot-ai\\graph-rag-neo4j-langchain-groq-llm\\graph-rag-01\\lib\\site-packages (from requests<3.0.0,>=2.32.5->langchain-community<0.4.0,>=0.3.0->langchain-experimental) (2.5.0)\n",
      "Requirement already satisfied: certifi>=2017.4.17 in g:\\datascienceprojects\\rag-chatbot-ai\\graph-rag-neo4j-langchain-groq-llm\\graph-rag-01\\lib\\site-packages (from requests<3.0.0,>=2.32.5->langchain-community<0.4.0,>=0.3.0->langchain-experimental) (2025.10.5)\n",
      "Requirement already satisfied: greenlet>=1 in g:\\datascienceprojects\\rag-chatbot-ai\\graph-rag-neo4j-langchain-groq-llm\\graph-rag-01\\lib\\site-packages (from SQLAlchemy<3.0.0,>=1.4.0->langchain-community<0.4.0,>=0.3.0->langchain-experimental) (3.2.4)\n",
      "Requirement already satisfied: anyio in g:\\datascienceprojects\\rag-chatbot-ai\\graph-rag-neo4j-langchain-groq-llm\\graph-rag-01\\lib\\site-packages (from httpx<1,>=0.23.0->langsmith<1.0.0,>=0.1.125->langchain-community<0.4.0,>=0.3.0->langchain-experimental) (4.11.0)\n",
      "Requirement already satisfied: httpcore==1.* in g:\\datascienceprojects\\rag-chatbot-ai\\graph-rag-neo4j-langchain-groq-llm\\graph-rag-01\\lib\\site-packages (from httpx<1,>=0.23.0->langsmith<1.0.0,>=0.1.125->langchain-community<0.4.0,>=0.3.0->langchain-experimental) (1.0.9)\n",
      "Requirement already satisfied: h11>=0.16 in g:\\datascienceprojects\\rag-chatbot-ai\\graph-rag-neo4j-langchain-groq-llm\\graph-rag-01\\lib\\site-packages (from httpcore==1.*->httpx<1,>=0.23.0->langsmith<1.0.0,>=0.1.125->langchain-community<0.4.0,>=0.3.0->langchain-experimental) (0.16.0)\n",
      "Requirement already satisfied: mypy-extensions>=0.3.0 in g:\\datascienceprojects\\rag-chatbot-ai\\graph-rag-neo4j-langchain-groq-llm\\graph-rag-01\\lib\\site-packages (from typing-inspect<1,>=0.4.0->dataclasses-json<0.7.0,>=0.6.7->langchain-community<0.4.0,>=0.3.0->langchain-experimental) (1.1.0)\n",
      "Requirement already satisfied: sniffio>=1.1 in g:\\datascienceprojects\\rag-chatbot-ai\\graph-rag-neo4j-langchain-groq-llm\\graph-rag-01\\lib\\site-packages (from anyio->httpx<1,>=0.23.0->langsmith<1.0.0,>=0.1.125->langchain-community<0.4.0,>=0.3.0->langchain-experimental) (1.3.1)\n",
      "Using cached langchain_core-0.3.78-py3-none-any.whl (449 kB)\n",
      "Using cached langchain-0.3.27-py3-none-any.whl (1.0 MB)\n",
      "Installing collected packages: langchain-core, langchain\n",
      "  Attempting uninstall: langchain-core\n",
      "    Found existing installation: langchain-core 1.0.0a8\n",
      "    Uninstalling langchain-core-1.0.0a8:\n",
      "      Successfully uninstalled langchain-core-1.0.0a8\n",
      "  Attempting uninstall: langchain\n",
      "    Found existing installation: langchain 1.0.0a12\n",
      "    Uninstalling langchain-1.0.0a12:\n",
      "      Successfully uninstalled langchain-1.0.0a12\n",
      "Successfully installed langchain-0.3.27 langchain-core-0.3.78\n"
     ]
    },
    {
     "name": "stderr",
     "output_type": "stream",
     "text": [
      "\n",
      "[notice] A new release of pip is available: 23.2.1 -> 25.2\n",
      "[notice] To update, run: python.exe -m pip install --upgrade pip\n"
     ]
    }
   ],
   "source": [
    "!pip install --upgrade langchain-experimental\n"
   ]
  },
  {
   "cell_type": "code",
   "execution_count": null,
   "id": "378b6203",
   "metadata": {},
   "outputs": [],
   "source": [
    "!pip uninstall langchain langchain-core langchain-experimental langchain-community\n"
   ]
  },
  {
   "cell_type": "code",
   "execution_count": 15,
   "id": "052c6127",
   "metadata": {},
   "outputs": [
    {
     "name": "stdout",
     "output_type": "stream",
     "text": [
      "Requirement already satisfied: langchain in g:\\datascienceprojects\\rag-chatbot-ai\\graph-rag-neo4j-langchain-groq-llm\\graph-rag-01\\lib\\site-packages (0.3.27)\n",
      "Requirement already satisfied: langchain-experimental in g:\\datascienceprojects\\rag-chatbot-ai\\graph-rag-neo4j-langchain-groq-llm\\graph-rag-01\\lib\\site-packages (0.3.4)\n",
      "Requirement already satisfied: langchain-community in g:\\datascienceprojects\\rag-chatbot-ai\\graph-rag-neo4j-langchain-groq-llm\\graph-rag-01\\lib\\site-packages (0.3.31)\n",
      "Requirement already satisfied: langchain-core in g:\\datascienceprojects\\rag-chatbot-ai\\graph-rag-neo4j-langchain-groq-llm\\graph-rag-01\\lib\\site-packages (0.3.78)\n",
      "Requirement already satisfied: langchain-text-splitters<1.0.0,>=0.3.9 in g:\\datascienceprojects\\rag-chatbot-ai\\graph-rag-neo4j-langchain-groq-llm\\graph-rag-01\\lib\\site-packages (from langchain) (0.3.11)\n",
      "Requirement already satisfied: langsmith>=0.1.17 in g:\\datascienceprojects\\rag-chatbot-ai\\graph-rag-neo4j-langchain-groq-llm\\graph-rag-01\\lib\\site-packages (from langchain) (0.4.33)\n",
      "Requirement already satisfied: pydantic<3.0.0,>=2.7.4 in g:\\datascienceprojects\\rag-chatbot-ai\\graph-rag-neo4j-langchain-groq-llm\\graph-rag-01\\lib\\site-packages (from langchain) (2.12.0)\n",
      "Requirement already satisfied: SQLAlchemy<3,>=1.4 in g:\\datascienceprojects\\rag-chatbot-ai\\graph-rag-neo4j-langchain-groq-llm\\graph-rag-01\\lib\\site-packages (from langchain) (2.0.43)\n",
      "Requirement already satisfied: requests<3,>=2 in g:\\datascienceprojects\\rag-chatbot-ai\\graph-rag-neo4j-langchain-groq-llm\\graph-rag-01\\lib\\site-packages (from langchain) (2.32.5)\n",
      "Requirement already satisfied: PyYAML>=5.3 in g:\\datascienceprojects\\rag-chatbot-ai\\graph-rag-neo4j-langchain-groq-llm\\graph-rag-01\\lib\\site-packages (from langchain) (6.0.3)\n",
      "Requirement already satisfied: aiohttp<4.0.0,>=3.8.3 in g:\\datascienceprojects\\rag-chatbot-ai\\graph-rag-neo4j-langchain-groq-llm\\graph-rag-01\\lib\\site-packages (from langchain-community) (3.13.0)\n",
      "Requirement already satisfied: tenacity!=8.4.0,<10.0.0,>=8.1.0 in g:\\datascienceprojects\\rag-chatbot-ai\\graph-rag-neo4j-langchain-groq-llm\\graph-rag-01\\lib\\site-packages (from langchain-community) (9.1.2)\n",
      "Requirement already satisfied: dataclasses-json<0.7.0,>=0.6.7 in g:\\datascienceprojects\\rag-chatbot-ai\\graph-rag-neo4j-langchain-groq-llm\\graph-rag-01\\lib\\site-packages (from langchain-community) (0.6.7)\n",
      "Requirement already satisfied: pydantic-settings<3.0.0,>=2.10.1 in g:\\datascienceprojects\\rag-chatbot-ai\\graph-rag-neo4j-langchain-groq-llm\\graph-rag-01\\lib\\site-packages (from langchain-community) (2.11.0)\n",
      "Requirement already satisfied: httpx-sse<1.0.0,>=0.4.0 in g:\\datascienceprojects\\rag-chatbot-ai\\graph-rag-neo4j-langchain-groq-llm\\graph-rag-01\\lib\\site-packages (from langchain-community) (0.4.2)\n",
      "Requirement already satisfied: numpy>=1.26.2 in g:\\datascienceprojects\\rag-chatbot-ai\\graph-rag-neo4j-langchain-groq-llm\\graph-rag-01\\lib\\site-packages (from langchain-community) (2.3.3)\n",
      "Requirement already satisfied: jsonpatch<2.0.0,>=1.33.0 in g:\\datascienceprojects\\rag-chatbot-ai\\graph-rag-neo4j-langchain-groq-llm\\graph-rag-01\\lib\\site-packages (from langchain-core) (1.33)\n",
      "Requirement already satisfied: typing-extensions<5.0.0,>=4.7.0 in g:\\datascienceprojects\\rag-chatbot-ai\\graph-rag-neo4j-langchain-groq-llm\\graph-rag-01\\lib\\site-packages (from langchain-core) (4.15.0)\n",
      "Requirement already satisfied: packaging<26.0.0,>=23.2.0 in g:\\datascienceprojects\\rag-chatbot-ai\\graph-rag-neo4j-langchain-groq-llm\\graph-rag-01\\lib\\site-packages (from langchain-core) (25.0)\n",
      "Requirement already satisfied: aiohappyeyeballs>=2.5.0 in g:\\datascienceprojects\\rag-chatbot-ai\\graph-rag-neo4j-langchain-groq-llm\\graph-rag-01\\lib\\site-packages (from aiohttp<4.0.0,>=3.8.3->langchain-community) (2.6.1)\n",
      "Requirement already satisfied: aiosignal>=1.4.0 in g:\\datascienceprojects\\rag-chatbot-ai\\graph-rag-neo4j-langchain-groq-llm\\graph-rag-01\\lib\\site-packages (from aiohttp<4.0.0,>=3.8.3->langchain-community) (1.4.0)\n",
      "Requirement already satisfied: attrs>=17.3.0 in g:\\datascienceprojects\\rag-chatbot-ai\\graph-rag-neo4j-langchain-groq-llm\\graph-rag-01\\lib\\site-packages (from aiohttp<4.0.0,>=3.8.3->langchain-community) (25.4.0)\n",
      "Requirement already satisfied: frozenlist>=1.1.1 in g:\\datascienceprojects\\rag-chatbot-ai\\graph-rag-neo4j-langchain-groq-llm\\graph-rag-01\\lib\\site-packages (from aiohttp<4.0.0,>=3.8.3->langchain-community) (1.8.0)\n",
      "Requirement already satisfied: multidict<7.0,>=4.5 in g:\\datascienceprojects\\rag-chatbot-ai\\graph-rag-neo4j-langchain-groq-llm\\graph-rag-01\\lib\\site-packages (from aiohttp<4.0.0,>=3.8.3->langchain-community) (6.7.0)\n",
      "Requirement already satisfied: propcache>=0.2.0 in g:\\datascienceprojects\\rag-chatbot-ai\\graph-rag-neo4j-langchain-groq-llm\\graph-rag-01\\lib\\site-packages (from aiohttp<4.0.0,>=3.8.3->langchain-community) (0.4.0)\n",
      "Requirement already satisfied: yarl<2.0,>=1.17.0 in g:\\datascienceprojects\\rag-chatbot-ai\\graph-rag-neo4j-langchain-groq-llm\\graph-rag-01\\lib\\site-packages (from aiohttp<4.0.0,>=3.8.3->langchain-community) (1.22.0)\n",
      "Requirement already satisfied: marshmallow<4.0.0,>=3.18.0 in g:\\datascienceprojects\\rag-chatbot-ai\\graph-rag-neo4j-langchain-groq-llm\\graph-rag-01\\lib\\site-packages (from dataclasses-json<0.7.0,>=0.6.7->langchain-community) (3.26.1)\n",
      "Requirement already satisfied: typing-inspect<1,>=0.4.0 in g:\\datascienceprojects\\rag-chatbot-ai\\graph-rag-neo4j-langchain-groq-llm\\graph-rag-01\\lib\\site-packages (from dataclasses-json<0.7.0,>=0.6.7->langchain-community) (0.9.0)\n",
      "Requirement already satisfied: jsonpointer>=1.9 in g:\\datascienceprojects\\rag-chatbot-ai\\graph-rag-neo4j-langchain-groq-llm\\graph-rag-01\\lib\\site-packages (from jsonpatch<2.0.0,>=1.33.0->langchain-core) (3.0.0)\n",
      "Requirement already satisfied: httpx<1,>=0.23.0 in g:\\datascienceprojects\\rag-chatbot-ai\\graph-rag-neo4j-langchain-groq-llm\\graph-rag-01\\lib\\site-packages (from langsmith>=0.1.17->langchain) (0.28.1)\n",
      "Requirement already satisfied: orjson>=3.9.14 in g:\\datascienceprojects\\rag-chatbot-ai\\graph-rag-neo4j-langchain-groq-llm\\graph-rag-01\\lib\\site-packages (from langsmith>=0.1.17->langchain) (3.11.3)\n",
      "Requirement already satisfied: requests-toolbelt>=1.0.0 in g:\\datascienceprojects\\rag-chatbot-ai\\graph-rag-neo4j-langchain-groq-llm\\graph-rag-01\\lib\\site-packages (from langsmith>=0.1.17->langchain) (1.0.0)\n",
      "Requirement already satisfied: zstandard>=0.23.0 in g:\\datascienceprojects\\rag-chatbot-ai\\graph-rag-neo4j-langchain-groq-llm\\graph-rag-01\\lib\\site-packages (from langsmith>=0.1.17->langchain) (0.25.0)\n",
      "Requirement already satisfied: annotated-types>=0.6.0 in g:\\datascienceprojects\\rag-chatbot-ai\\graph-rag-neo4j-langchain-groq-llm\\graph-rag-01\\lib\\site-packages (from pydantic<3.0.0,>=2.7.4->langchain) (0.7.0)\n",
      "Requirement already satisfied: pydantic-core==2.41.1 in g:\\datascienceprojects\\rag-chatbot-ai\\graph-rag-neo4j-langchain-groq-llm\\graph-rag-01\\lib\\site-packages (from pydantic<3.0.0,>=2.7.4->langchain) (2.41.1)\n",
      "Requirement already satisfied: typing-inspection>=0.4.2 in g:\\datascienceprojects\\rag-chatbot-ai\\graph-rag-neo4j-langchain-groq-llm\\graph-rag-01\\lib\\site-packages (from pydantic<3.0.0,>=2.7.4->langchain) (0.4.2)\n",
      "Requirement already satisfied: python-dotenv>=0.21.0 in g:\\datascienceprojects\\rag-chatbot-ai\\graph-rag-neo4j-langchain-groq-llm\\graph-rag-01\\lib\\site-packages (from pydantic-settings<3.0.0,>=2.10.1->langchain-community) (1.1.1)\n",
      "Requirement already satisfied: charset_normalizer<4,>=2 in g:\\datascienceprojects\\rag-chatbot-ai\\graph-rag-neo4j-langchain-groq-llm\\graph-rag-01\\lib\\site-packages (from requests<3,>=2->langchain) (3.4.3)\n",
      "Requirement already satisfied: idna<4,>=2.5 in g:\\datascienceprojects\\rag-chatbot-ai\\graph-rag-neo4j-langchain-groq-llm\\graph-rag-01\\lib\\site-packages (from requests<3,>=2->langchain) (3.10)\n",
      "Requirement already satisfied: urllib3<3,>=1.21.1 in g:\\datascienceprojects\\rag-chatbot-ai\\graph-rag-neo4j-langchain-groq-llm\\graph-rag-01\\lib\\site-packages (from requests<3,>=2->langchain) (2.5.0)\n",
      "Requirement already satisfied: certifi>=2017.4.17 in g:\\datascienceprojects\\rag-chatbot-ai\\graph-rag-neo4j-langchain-groq-llm\\graph-rag-01\\lib\\site-packages (from requests<3,>=2->langchain) (2025.10.5)\n",
      "Requirement already satisfied: greenlet>=1 in g:\\datascienceprojects\\rag-chatbot-ai\\graph-rag-neo4j-langchain-groq-llm\\graph-rag-01\\lib\\site-packages (from SQLAlchemy<3,>=1.4->langchain) (3.2.4)\n",
      "Requirement already satisfied: anyio in g:\\datascienceprojects\\rag-chatbot-ai\\graph-rag-neo4j-langchain-groq-llm\\graph-rag-01\\lib\\site-packages (from httpx<1,>=0.23.0->langsmith>=0.1.17->langchain) (4.11.0)\n",
      "Requirement already satisfied: httpcore==1.* in g:\\datascienceprojects\\rag-chatbot-ai\\graph-rag-neo4j-langchain-groq-llm\\graph-rag-01\\lib\\site-packages (from httpx<1,>=0.23.0->langsmith>=0.1.17->langchain) (1.0.9)\n",
      "Requirement already satisfied: h11>=0.16 in g:\\datascienceprojects\\rag-chatbot-ai\\graph-rag-neo4j-langchain-groq-llm\\graph-rag-01\\lib\\site-packages (from httpcore==1.*->httpx<1,>=0.23.0->langsmith>=0.1.17->langchain) (0.16.0)\n",
      "Requirement already satisfied: mypy-extensions>=0.3.0 in g:\\datascienceprojects\\rag-chatbot-ai\\graph-rag-neo4j-langchain-groq-llm\\graph-rag-01\\lib\\site-packages (from typing-inspect<1,>=0.4.0->dataclasses-json<0.7.0,>=0.6.7->langchain-community) (1.1.0)\n",
      "Requirement already satisfied: sniffio>=1.1 in g:\\datascienceprojects\\rag-chatbot-ai\\graph-rag-neo4j-langchain-groq-llm\\graph-rag-01\\lib\\site-packages (from anyio->httpx<1,>=0.23.0->langsmith>=0.1.17->langchain) (1.3.1)\n"
     ]
    },
    {
     "name": "stderr",
     "output_type": "stream",
     "text": [
      "\n",
      "[notice] A new release of pip is available: 23.2.1 -> 25.2\n",
      "[notice] To update, run: python.exe -m pip install --upgrade pip\n"
     ]
    }
   ],
   "source": [
    "!pip install langchain langchain-experimental langchain-community langchain-core\n"
   ]
  },
  {
   "cell_type": "code",
   "execution_count": 16,
   "id": "9b5a9cd5",
   "metadata": {},
   "outputs": [
    {
     "name": "stdout",
     "output_type": "stream",
     "text": [
      "<class 'langchain_experimental.graph_transformers.llm.LLMGraphTransformer'>\n"
     ]
    }
   ],
   "source": [
    "from langchain_experimental.graph_transformers import LLMGraphTransformer\n",
    "\n",
    "\n",
    "\n",
    "import requests\n",
    "from langchain_core.utils.env import get_from_env\n",
    "from langchain_community.graphs.graph_document import GraphDocument, Node, Relationship\n",
    "from langchain_core.documents import Document\n",
    "print(LLMGraphTransformer)\n"
   ]
  },
  {
   "cell_type": "code",
   "execution_count": 17,
   "id": "bbdb8fff",
   "metadata": {},
   "outputs": [],
   "source": [
    "# from langchain_experimental import LLMGraphTransformer\n",
    "# from langchain_graphs import LLMGraphTransformer\n",
    "# from langchain_experimental.graphs.transform import LLMGraphTransformer\n",
    "# from langchain_experimental.graphs import LLMGraphTransformer\n",
    "\n",
    "\n",
    "\n",
    "# llm_transformer=LLMGraphTransformer(llm=llm)\n",
    "\n",
    "from langchain_experimental.graph_transformers import LLMGraphTransformer\n",
    "# ... all your other imports\n",
    "\n",
    "# Assuming 'llm' is already defined, for example, from langchain_openai or another provider\n",
    "\n",
    "\n",
    "llm_transformer = LLMGraphTransformer(llm=llm)"
   ]
  },
  {
   "cell_type": "code",
   "execution_count": 18,
   "id": "264a82ec",
   "metadata": {},
   "outputs": [
    {
     "data": {
      "text/plain": [
       "[GraphDocument(nodes=[Node(id='Elizabeth I', type='Person', properties={}), Node(id='Henry Viii', type='Person', properties={}), Node(id='Anne Boleyn', type='Person', properties={}), Node(id='Edward Vi', type='Person', properties={}), Node(id='Lady Jane Grey', type='Person', properties={}), Node(id='Mary', type='Person', properties={}), Node(id='William Cecil', type='Person', properties={}), Node(id='James Vi Of Scotland', type='Person', properties={}), Node(id='Francis Walsingham', type='Person', properties={}), Node(id='House Of Tudor', type='Dynasty', properties={}), Node(id='England', type='Country', properties={}), Node(id='Ireland', type='Country', properties={}), Node(id='Church Of England', type='Organization', properties={})], relationships=[Relationship(source=Node(id='Elizabeth I', type='Person', properties={}), target=Node(id='Henry Viii', type='Person', properties={}), type='CHILD', properties={}), Relationship(source=Node(id='Elizabeth I', type='Person', properties={}), target=Node(id='Anne Boleyn', type='Person', properties={}), type='CHILD', properties={}), Relationship(source=Node(id='Elizabeth I', type='Person', properties={}), target=Node(id='Edward Vi', type='Person', properties={}), type='SIBLING', properties={}), Relationship(source=Node(id='Elizabeth I', type='Person', properties={}), target=Node(id='Mary', type='Person', properties={}), type='SIBLING', properties={}), Relationship(source=Node(id='Elizabeth I', type='Person', properties={}), target=Node(id='William Cecil', type='Person', properties={}), type='ADVISER', properties={}), Relationship(source=Node(id='Elizabeth I', type='Person', properties={}), target=Node(id='James Vi Of Scotland', type='Person', properties={}), type='COUSIN', properties={}), Relationship(source=Node(id='Elizabeth I', type='Person', properties={}), target=Node(id='House Of Tudor', type='Dynasty', properties={}), type='MEMBER', properties={}), Relationship(source=Node(id='Elizabeth I', type='Person', properties={}), target=Node(id='England', type='Country', properties={}), type='QUEEN', properties={}), Relationship(source=Node(id='Elizabeth I', type='Person', properties={}), target=Node(id='Ireland', type='Country', properties={}), type='QUEEN', properties={}), Relationship(source=Node(id='Elizabeth I', type='Person', properties={}), target=Node(id='Church Of England', type='Organization', properties={}), type='SUPREME_GOVERNOR', properties={})], source=Document(metadata={'title': 'Elizabeth I', 'summary': 'Elizabeth I (7 September 1533 – 24 March 1603) was Queen of England and Ireland from 17 November 1558 until her death in 1603. She was the last and longest reigning monarch of the House of Tudor. Her eventful reign, and its effect on history and culture, gave name to the Elizabethan era.\\nElizabeth was the only surviving child of Henry VIII and his second wife, Anne Boleyn. When Elizabeth was two years old, her parents\\' marriage was annulled, her mother was executed, and Elizabeth was declared illegitimate. Henry restored her to the line of succession when she was 10. After Henry\\'s death in 1547, Elizabeth\\'s younger half-brother Edward VI ruled until his own death in 1553, bequeathing the crown to a Protestant cousin, Lady Jane Grey, and ignoring the claims of his two half-sisters, Mary and Elizabeth, despite statutes to the contrary. Edward\\'s will was quickly set aside and the Catholic Mary became queen, deposing Jane. During Mary\\'s reign, Elizabeth was imprisoned for nearly a year on suspicion of supporting Protestant rebels.\\nUpon Mary\\'s 1558 death, Elizabeth succeeded to the throne and set out to rule by good counsel. She depended heavily on a group of trusted advisers led by William Cecil, whom she created Baron Burghley. One of her first actions as queen was the establishment of an English Protestant church, of which she became the supreme governor. This arrangement, later named the Elizabethan Religious Settlement, would evolve into the Church of England. It was expected that Elizabeth would marry and produce an heir; however, despite numerous courtships, she never did. Because of this she is sometimes referred to as the \"Virgin Queen\". She was succeeded by her cousin, James VI of Scotland.\\nIn government, Elizabeth was more moderate than her father and siblings had been. One of her mottoes was video et taceo (\"I see and keep silent\"). In religion, she was relatively tolerant and avoided systematic persecution. After the pope declared her illegitimate in 1570, which in theory released English Catholics from allegiance to her, several conspiracies threatened her life, all of which were defeated with the help of her ministers\\' secret service, run by Francis Walsingham. Elizabeth was cautious in foreign affairs, manoeuvring between the major powers of France and Spain. She half-heartedly supported a number of ineffective, poorly resourced military campaigns in the Netherlands, France, and Ireland. By the mid-1580s, England could no longer avoid war with Spain.\\nAs she grew older, Elizabeth became celebrated for her virginity. A cult of personality grew around her which was celebrated in the portraits, pageants, and literature of the day. The Elizabethan era is famous for the flourishing of English drama, led by playwrights such as William Shakespeare and Christopher Marlowe, the prowess of English maritime adventurers, such as Francis Drake and Walter Raleigh, and for the defeat of the Spanish Armada. Some historians depict Elizabeth as a short-tempered, sometimes indecisive ruler, who enjoyed more than her fair share of luck. Towards the end of her reign, a series of economic and military problems weakened her popularity. Elizabeth is acknowledged as a charismatic performer and a dogged survivor in an era when government was ramshackle and limited, and when monarchs in neighbouring countries faced internal problems and religious civil wars that jeopardised their thrones. After the short, disastrous reigns of her half-siblings, her 44 years on the throne provided welcome stability for the kingdom and helped to forge a sense of national identity.\\n\\n', 'source': 'https://en.wikipedia.org/wiki/Elizabeth_I'}, page_content='Elizabeth I (7 September 1533 – 24 March 1603) was Queen of England and Ireland from 17 November 1558 until her death in 1603. She was the last and longest reigning monarch of the House of Tudor. Her eventful reign, and its effect on history and culture, gave name to the Elizabethan era.\\nElizabeth was the only surviving child of Henry VIII and his second wife, Anne Boleyn. When Elizabeth was two years old, her parents\\' marriage was annulled, her mother was executed, and Elizabeth was declared illegitimate. Henry restored her to the line of succession when she was 10. After Henry\\'s death in 1547, Elizabeth\\'s younger half-brother Edward VI ruled until his own death in 1553, bequeathing the crown to a Protestant cousin, Lady Jane Grey, and ignoring the claims of his two half-sisters, Mary and Elizabeth, despite statutes to the contrary. Edward\\'s will was quickly set aside and the Catholic Mary became queen, deposing Jane. During Mary\\'s reign, Elizabeth was imprisoned for nearly a year on suspicion of supporting Protestant rebels.\\nUpon Mary\\'s 1558 death, Elizabeth succeeded to the throne and set out to rule by good counsel. She depended heavily on a group of trusted advisers led by William Cecil, whom she created Baron Burghley. One of her first actions as queen was the establishment of an English Protestant church, of which she became the supreme governor. This arrangement, later named the Elizabethan Religious Settlement, would evolve into the Church of England. It was expected that Elizabeth would marry and produce an heir; however, despite numerous courtships, she never did. Because of this she is sometimes referred to as the \"Virgin Queen\". She was succeeded by her cousin, James VI of Scotland.\\nIn government, Elizabeth was more moderate than her father and siblings had been. One of her mottoes was video et taceo (\"I see and keep silent\"). In religion, she was relatively tolerant and avoided systematic persecution. After the pope declared her illegitimate in 1570, which in theory released English Catholics from allegiance to her, several conspiracies threatened her life, all of which were defeated with the help of her ministers\\' secret service, run by Francis Walsingham. Elizabeth was cautious in foreign affairs, manoeuvring between the major powers of France and Spain. She half-heartedly supported a number of ineffective, poorly resourced military campaigns in the Netherlands, France, and Ireland. By the mid-1580s, England could no')),\n",
       " GraphDocument(nodes=[Node(id='Elizabeth', type='Person', properties={}), Node(id='England', type='Country', properties={}), Node(id='Netherlands', type='Country', properties={}), Node(id='France', type='Country', properties={}), Node(id='Ireland', type='Country', properties={}), Node(id='Spain', type='Country', properties={}), Node(id='William Shakespeare', type='Person', properties={}), Node(id='Christopher Marlowe', type='Person', properties={}), Node(id='Francis Drake', type='Person', properties={}), Node(id='Walter Raleigh', type='Person', properties={}), Node(id='Henry Viii', type='Person', properties={}), Node(id='Anne Boleyn', type='Person', properties={}), Node(id='Elizabeth Of York', type='Person', properties={}), Node(id='Lady Elizabeth Howard', type='Person', properties={})], relationships=[Relationship(source=Node(id='Elizabeth', type='Person', properties={}), target=Node(id='England', type='Country', properties={}), type='MONARCH', properties={}), Relationship(source=Node(id='Elizabeth', type='Person', properties={}), target=Node(id='Netherlands', type='Country', properties={}), type='MILITARY_CAMPAIGN', properties={}), Relationship(source=Node(id='Elizabeth', type='Person', properties={}), target=Node(id='France', type='Country', properties={}), type='MILITARY_CAMPAIGN', properties={}), Relationship(source=Node(id='Elizabeth', type='Person', properties={}), target=Node(id='Ireland', type='Country', properties={}), type='MILITARY_CAMPAIGN', properties={}), Relationship(source=Node(id='Elizabeth', type='Person', properties={}), target=Node(id='Spain', type='Country', properties={}), type='WAR', properties={}), Relationship(source=Node(id='William Shakespeare', type='Person', properties={}), target=Node(id='Elizabeth', type='Person', properties={}), type='PLAYWRIGHT', properties={}), Relationship(source=Node(id='Christopher Marlowe', type='Person', properties={}), target=Node(id='Elizabeth', type='Person', properties={}), type='PLAYWRIGHT', properties={}), Relationship(source=Node(id='Francis Drake', type='Person', properties={}), target=Node(id='Elizabeth', type='Person', properties={}), type='MARITIME_ADVENTURER', properties={}), Relationship(source=Node(id='Walter Raleigh', type='Person', properties={}), target=Node(id='Elizabeth', type='Person', properties={}), type='MARITIME_ADVENTURER', properties={}), Relationship(source=Node(id='Henry Viii', type='Person', properties={}), target=Node(id='Elizabeth', type='Person', properties={}), type='FATHER', properties={}), Relationship(source=Node(id='Anne Boleyn', type='Person', properties={}), target=Node(id='Elizabeth', type='Person', properties={}), type='MOTHER', properties={}), Relationship(source=Node(id='Elizabeth Of York', type='Person', properties={}), target=Node(id='Elizabeth', type='Person', properties={}), type='GRANDMOTHER', properties={}), Relationship(source=Node(id='Lady Elizabeth Howard', type='Person', properties={}), target=Node(id='Elizabeth', type='Person', properties={}), type='GRANDMOTHER', properties={})], source=Document(metadata={'title': 'Elizabeth I', 'summary': 'Elizabeth I (7 September 1533 – 24 March 1603) was Queen of England and Ireland from 17 November 1558 until her death in 1603. She was the last and longest reigning monarch of the House of Tudor. Her eventful reign, and its effect on history and culture, gave name to the Elizabethan era.\\nElizabeth was the only surviving child of Henry VIII and his second wife, Anne Boleyn. When Elizabeth was two years old, her parents\\' marriage was annulled, her mother was executed, and Elizabeth was declared illegitimate. Henry restored her to the line of succession when she was 10. After Henry\\'s death in 1547, Elizabeth\\'s younger half-brother Edward VI ruled until his own death in 1553, bequeathing the crown to a Protestant cousin, Lady Jane Grey, and ignoring the claims of his two half-sisters, Mary and Elizabeth, despite statutes to the contrary. Edward\\'s will was quickly set aside and the Catholic Mary became queen, deposing Jane. During Mary\\'s reign, Elizabeth was imprisoned for nearly a year on suspicion of supporting Protestant rebels.\\nUpon Mary\\'s 1558 death, Elizabeth succeeded to the throne and set out to rule by good counsel. She depended heavily on a group of trusted advisers led by William Cecil, whom she created Baron Burghley. One of her first actions as queen was the establishment of an English Protestant church, of which she became the supreme governor. This arrangement, later named the Elizabethan Religious Settlement, would evolve into the Church of England. It was expected that Elizabeth would marry and produce an heir; however, despite numerous courtships, she never did. Because of this she is sometimes referred to as the \"Virgin Queen\". She was succeeded by her cousin, James VI of Scotland.\\nIn government, Elizabeth was more moderate than her father and siblings had been. One of her mottoes was video et taceo (\"I see and keep silent\"). In religion, she was relatively tolerant and avoided systematic persecution. After the pope declared her illegitimate in 1570, which in theory released English Catholics from allegiance to her, several conspiracies threatened her life, all of which were defeated with the help of her ministers\\' secret service, run by Francis Walsingham. Elizabeth was cautious in foreign affairs, manoeuvring between the major powers of France and Spain. She half-heartedly supported a number of ineffective, poorly resourced military campaigns in the Netherlands, France, and Ireland. By the mid-1580s, England could no longer avoid war with Spain.\\nAs she grew older, Elizabeth became celebrated for her virginity. A cult of personality grew around her which was celebrated in the portraits, pageants, and literature of the day. The Elizabethan era is famous for the flourishing of English drama, led by playwrights such as William Shakespeare and Christopher Marlowe, the prowess of English maritime adventurers, such as Francis Drake and Walter Raleigh, and for the defeat of the Spanish Armada. Some historians depict Elizabeth as a short-tempered, sometimes indecisive ruler, who enjoyed more than her fair share of luck. Towards the end of her reign, a series of economic and military problems weakened her popularity. Elizabeth is acknowledged as a charismatic performer and a dogged survivor in an era when government was ramshackle and limited, and when monarchs in neighbouring countries faced internal problems and religious civil wars that jeopardised their thrones. After the short, disastrous reigns of her half-siblings, her 44 years on the throne provided welcome stability for the kingdom and helped to forge a sense of national identity.\\n\\n', 'source': 'https://en.wikipedia.org/wiki/Elizabeth_I'}, page_content=\" poorly resourced military campaigns in the Netherlands, France, and Ireland. By the mid-1580s, England could no longer avoid war with Spain.\\nAs she grew older, Elizabeth became celebrated for her virginity. A cult of personality grew around her which was celebrated in the portraits, pageants, and literature of the day. The Elizabethan era is famous for the flourishing of English drama, led by playwrights such as William Shakespeare and Christopher Marlowe, the prowess of English maritime adventurers, such as Francis Drake and Walter Raleigh, and for the defeat of the Spanish Armada. Some historians depict Elizabeth as a short-tempered, sometimes indecisive ruler, who enjoyed more than her fair share of luck. Towards the end of her reign, a series of economic and military problems weakened her popularity. Elizabeth is acknowledged as a charismatic performer and a dogged survivor in an era when government was ramshackle and limited, and when monarchs in neighbouring countries faced internal problems and religious civil wars that jeopardised their thrones. After the short, disastrous reigns of her half-siblings, her 44 years on the throne provided welcome stability for the kingdom and helped to forge a sense of national identity.\\n\\n\\n== Early life ==\\n\\nElizabeth was born at Greenwich Palace on 7 September 1533 and was named after her grandmothers, Elizabeth of York and Lady Elizabeth Howard. She was the second child of Henry VIII of England born in wedlock to survive infancy. Her mother was Henry VIII's second wife, Anne Boleyn. At birth, Elizabeth was the heir presumptive to the English throne. Her elder half-sis\")),\n",
       " GraphDocument(nodes=[Node(id='Elizabeth Petrovna', type='Person', properties={}), Node(id='Peter The Great', type='Person', properties={}), Node(id='Catherine I Of Russia', type='Person', properties={}), Node(id='Alexei', type='Person', properties={}), Node(id='Peter Ii', type='Person', properties={}), Node(id='Anna', type='Person', properties={}), Node(id='Ivan Vi', type='Person', properties={}), Node(id='Peter Iii', type='Person', properties={}), Node(id='Mikhail Lomonosov', type='Person', properties={}), Node(id='Ivan Shuvalov', type='Person', properties={}), Node(id='Bartolomeo Rastrelli', type='Person', properties={}), Node(id='Aleksey Bestuzhev-Ryumin', type='Person', properties={}), Node(id='Russia', type='Country', properties={}), Node(id='University Of Moscow', type='Institution', properties={}), Node(id='Imperial Academy Of Arts', type='Institution', properties={}), Node(id='Winter Palace', type='Building', properties={}), Node(id='Smolny Cathedral', type='Building', properties={}), Node(id='Peterhof Palace', type='Building', properties={})], relationships=[Relationship(source=Node(id='Elizabeth Petrovna', type='Person', properties={}), target=Node(id='Peter The Great', type='Person', properties={}), type='DAUGHTER_OF', properties={}), Relationship(source=Node(id='Elizabeth Petrovna', type='Person', properties={}), target=Node(id='Russia', type='Country', properties={}), type='EMPRESS_OF', properties={}), Relationship(source=Node(id='Elizabeth Petrovna', type='Person', properties={}), target=Node(id='Mikhail Lomonosov', type='Person', properties={}), type='SUPPORTED', properties={}), Relationship(source=Node(id='Elizabeth Petrovna', type='Person', properties={}), target=Node(id='Ivan Shuvalov', type='Person', properties={}), type='SUPPORTED', properties={}), Relationship(source=Node(id='Elizabeth Petrovna', type='Person', properties={}), target=Node(id='Bartolomeo Rastrelli', type='Person', properties={}), type='COLLABORATED_WITH', properties={}), Relationship(source=Node(id='Elizabeth Petrovna', type='Person', properties={}), target=Node(id='Aleksey Bestuzhev-Ryumin', type='Person', properties={}), type='COLLABORATED_WITH', properties={}), Relationship(source=Node(id='Elizabeth Petrovna', type='Person', properties={}), target=Node(id='University Of Moscow', type='Institution', properties={}), type='FOUNDED', properties={}), Relationship(source=Node(id='Elizabeth Petrovna', type='Person', properties={}), target=Node(id='Imperial Academy Of Arts', type='Institution', properties={}), type='FOUNDED', properties={}), Relationship(source=Node(id='Elizabeth Petrovna', type='Person', properties={}), target=Node(id='Winter Palace', type='Building', properties={}), type='COMMISSIONED', properties={}), Relationship(source=Node(id='Elizabeth Petrovna', type='Person', properties={}), target=Node(id='Smolny Cathedral', type='Building', properties={}), type='COMMISSIONED', properties={}), Relationship(source=Node(id='Elizabeth Petrovna', type='Person', properties={}), target=Node(id='Peterhof Palace', type='Building', properties={}), type='COMMISSIONED', properties={})], source=Document(metadata={'title': 'Elizabeth of Russia', 'summary': \"Elizabeth or Elizaveta Petrovna (Russian: Елизаве́та Петро́вна; 29 December [O.S. 18 December] 1709 – 5 January [O.S. 25 December] 1762) was Empress of Russia from 1741 until her death in 1762. She remains one of the most popular Russian monarchs because of her decision not to execute a single person during her reign, her numerous construction projects, and her strong opposition to Prussian policies. She was the last person on the agnatic line of the Romanovs as her nephew ascended, thus creating the house of Holstein-Gottorp-Romanov.\\nThe second-eldest daughter of Tsar Peter the Great (r.\\u20091682–1725), Elizabeth lived through the confused successions of her father's descendants following her half-brother Alexei's death in 1718. The throne first passed to her mother Catherine I of Russia (r.\\u20091725–1727), then to her nephew Peter II, who died in 1730 and was succeeded by Elizabeth's first cousin Anna (r.\\u20091730–1740). After the brief rule of Anna's infant great-nephew, Ivan VI, Elizabeth seized the throne with the military's support and declared her own nephew, the future Peter III, her heir.\\nDuring her reign Elizabeth continued the policies of her father and brought about a remarkable Age of Enlightenment in Russia. Her domestic policies allowed the nobles to gain dominance in local government while shortening their terms of service to the state. She encouraged Mikhail Lomonosov's foundation of the University of Moscow, the highest-ranking Russian educational institution. Her court became one of the most splendid in all Europe, especially regarding architecture: she modernised Russia's roads, encouraged Ivan Shuvalov's foundation of the Imperial Academy of Arts, and financed grandiose Baroque projects of her favourite architect, Bartolomeo Rastrelli, particularly in Peterhof Palace. The Winter Palace and the Smolny Cathedral in Saint Petersburg are among the chief monuments of her reign.\\nElizabeth led the Russian Empire during the two major European conflicts of her time: the War of Austrian Succession (1740–1748) and the Seven Years' War (1756–1763). She and diplomat Aleksey Bestuzhev-Ryumin solved the first event by forming an alliance with Austria and France, but indirectly caused the second. Russian troops enjoyed several victories against Prussia and briefly occupied Berlin, but when Frederick the Great was finally considering surrender in January 1762, the Russian Empress died. She was the last agnatic member of the House of Romanov to reign over the Russian Empire.\", 'source': 'https://en.wikipedia.org/wiki/Elizabeth_of_Russia'}, page_content=\"Elizabeth or Elizaveta Petrovna (Russian: Елизаве́та Петро́вна; 29 December [O.S. 18 December] 1709 – 5 January [O.S. 25 December] 1762) was Empress of Russia from 1741 until her death in 1762. She remains one of the most popular Russian monarchs because of her decision not to execute a single person during her reign, her numerous construction projects, and her strong opposition to Prussian policies. She was the last person on the agnatic line of the Romanovs as her nephew ascended, thus creating the house of Holstein-Gottorp-Romanov.\\nThe second-eldest daughter of Tsar Peter the Great (r.\\u20091682–1725), Elizabeth lived through the confused successions of her father's descendants following her half-brother Alexei's death in 1718. The throne first passed to her mother Catherine I of Russia (r.\\u20091725–1727), then to her nephew Peter II, who died in 1730 and was succeeded by Elizabeth's first cousin Anna (r.\\u20091730–1740). After the brief rule of Anna's infant great-nephew, Ivan VI, Elizabeth seized the throne with the military's support and declared her own nephew, the future Peter III, her heir.\\nDuring her reign Elizabeth continued the policies of her father and brought about a remarkable Age of Enlightenment in Russia. Her domestic policies allowed the nobles to gain dominance in local government while shortening their terms of service to the state. She encouraged Mikhail Lomonosov's foundation of the University of Moscow, the highest-ranking Russian educational institution. Her court became one of the most splendid in all Europe, especially regarding architecture: she modernised Russia's roads, encouraged Ivan Shuvalov's foundation of the Imperial Academy of Arts, and financed grandiose Baroque projects of her favourite architect, Bartolomeo Rastrelli, particularly in Peterhof Palace. The Winter Palace and the Smolny Cathedral in Saint Petersburg are among the chief monuments of her reign.\\nElizabeth led the Russian Empire during the two major European conflicts of her time: the War of Austrian Succession (1740–1748) and the Seven Years' War (1756–1763). She and diplomat Aleksey Bestuzhev-Ryumin solved the first event by forming an\")),\n",
       " GraphDocument(nodes=[Node(id='Elizabeth', type='Person', properties={}), Node(id='Aleksey Bestuzhev-Ryumin', type='Person', properties={}), Node(id='Austria', type='Country', properties={}), Node(id='France', type='Country', properties={}), Node(id='Prussia', type='Country', properties={}), Node(id='Frederick The Great', type='Person', properties={}), Node(id='House Of Romanov', type='Dynasty', properties={}), Node(id='Russian Empire', type='Empire', properties={}), Node(id='Peter The Great', type='Person', properties={}), Node(id='Catherine', type='Person', properties={}), Node(id='Samuel Skowroński', type='Person', properties={}), Node(id='Grand Duchy Of Lithuania', type='State', properties={}), Node(id='Kolomenskoye', type='Location', properties={}), Node(id='Moscow', type='City', properties={}), Node(id='Russia', type='Country', properties={}), Node(id='Cathedral Of The Holy Trinity', type='Location', properties={}), Node(id='Saint Petersburg', type='City', properties={}), Node(id=\"Saint Isaac'S Cathedral\", type='Location', properties={}), Node(id='Anna', type='Person', properties={}), Node(id='Alexei Petrovich', type='Person', properties={}), Node(id='Eudoxia Lopukhina', type='Person', properties={})], relationships=[Relationship(source=Node(id='Elizabeth', type='Person', properties={}), target=Node(id='Aleksey Bestuzhev-Ryumin', type='Person', properties={}), type='ALLIED_WITH', properties={}), Relationship(source=Node(id='Elizabeth', type='Person', properties={}), target=Node(id='Austria', type='Country', properties={}), type='FORMED_ALLIANCE_WITH', properties={}), Relationship(source=Node(id='Elizabeth', type='Person', properties={}), target=Node(id='France', type='Country', properties={}), type='FORMED_ALLIANCE_WITH', properties={}), Relationship(source=Node(id='Russian Empire', type='Empire', properties={}), target=Node(id='Prussia', type='Country', properties={}), type='FOUGHT_AGAINST', properties={}), Relationship(source=Node(id='Frederick The Great', type='Person', properties={}), target=Node(id='Russian Empire', type='Empire', properties={}), type='FOUGHT_AGAINST', properties={}), Relationship(source=Node(id='Elizabeth', type='Person', properties={}), target=Node(id='House Of Romanov', type='Dynasty', properties={}), type='MEMBER_OF', properties={}), Relationship(source=Node(id='Elizabeth', type='Person', properties={}), target=Node(id='Russian Empire', type='Empire', properties={}), type='REIGNED_OVER', properties={}), Relationship(source=Node(id='Peter The Great', type='Person', properties={}), target=Node(id='Elizabeth', type='Person', properties={}), type='FATHER_OF', properties={}), Relationship(source=Node(id='Catherine', type='Person', properties={}), target=Node(id='Elizabeth', type='Person', properties={}), type='MOTHER_OF', properties={}), Relationship(source=Node(id='Samuel Skowroński', type='Person', properties={}), target=Node(id='Catherine', type='Person', properties={}), type='FATHER_OF', properties={}), Relationship(source=Node(id='Grand Duchy Of Lithuania', type='State', properties={}), target=Node(id='Samuel Skowroński', type='Person', properties={}), type='SUBJECT_OF', properties={}), Relationship(source=Node(id='Peter The Great', type='Person', properties={}), target=Node(id='Catherine', type='Person', properties={}), type='MARRIED_TO', properties={}), Relationship(source=Node(id='Elizabeth', type='Person', properties={}), target=Node(id='Kolomenskoye', type='Location', properties={}), type='BORN_AT', properties={}), Relationship(source=Node(id='Elizabeth', type='Person', properties={}), target=Node(id='Moscow', type='City', properties={}), type='BORN_NEAR', properties={}), Relationship(source=Node(id='Elizabeth', type='Person', properties={}), target=Node(id='Russia', type='Country', properties={}), type='BORN_IN', properties={}), Relationship(source=Node(id='Peter The Great', type='Person', properties={}), target=Node(id='Eudoxia Lopukhina', type='Person', properties={}), type='MARRIED_TO', properties={}), Relationship(source=Node(id='Alexei Petrovich', type='Person', properties={}), target=Node(id='Peter The Great', type='Person', properties={}), type='SON_OF', properties={}), Relationship(source=Node(id='Anna', type='Person', properties={}), target=Node(id='Elizabeth', type='Person', properties={}), type='SISTER_OF', properties={})], source=Document(metadata={'title': 'Elizabeth of Russia', 'summary': \"Elizabeth or Elizaveta Petrovna (Russian: Елизаве́та Петро́вна; 29 December [O.S. 18 December] 1709 – 5 January [O.S. 25 December] 1762) was Empress of Russia from 1741 until her death in 1762. She remains one of the most popular Russian monarchs because of her decision not to execute a single person during her reign, her numerous construction projects, and her strong opposition to Prussian policies. She was the last person on the agnatic line of the Romanovs as her nephew ascended, thus creating the house of Holstein-Gottorp-Romanov.\\nThe second-eldest daughter of Tsar Peter the Great (r.\\u20091682–1725), Elizabeth lived through the confused successions of her father's descendants following her half-brother Alexei's death in 1718. The throne first passed to her mother Catherine I of Russia (r.\\u20091725–1727), then to her nephew Peter II, who died in 1730 and was succeeded by Elizabeth's first cousin Anna (r.\\u20091730–1740). After the brief rule of Anna's infant great-nephew, Ivan VI, Elizabeth seized the throne with the military's support and declared her own nephew, the future Peter III, her heir.\\nDuring her reign Elizabeth continued the policies of her father and brought about a remarkable Age of Enlightenment in Russia. Her domestic policies allowed the nobles to gain dominance in local government while shortening their terms of service to the state. She encouraged Mikhail Lomonosov's foundation of the University of Moscow, the highest-ranking Russian educational institution. Her court became one of the most splendid in all Europe, especially regarding architecture: she modernised Russia's roads, encouraged Ivan Shuvalov's foundation of the Imperial Academy of Arts, and financed grandiose Baroque projects of her favourite architect, Bartolomeo Rastrelli, particularly in Peterhof Palace. The Winter Palace and the Smolny Cathedral in Saint Petersburg are among the chief monuments of her reign.\\nElizabeth led the Russian Empire during the two major European conflicts of her time: the War of Austrian Succession (1740–1748) and the Seven Years' War (1756–1763). She and diplomat Aleksey Bestuzhev-Ryumin solved the first event by forming an alliance with Austria and France, but indirectly caused the second. Russian troops enjoyed several victories against Prussia and briefly occupied Berlin, but when Frederick the Great was finally considering surrender in January 1762, the Russian Empress died. She was the last agnatic member of the House of Romanov to reign over the Russian Empire.\", 'source': 'https://en.wikipedia.org/wiki/Elizabeth_of_Russia'}, page_content='56–1763). She and diplomat Aleksey Bestuzhev-Ryumin solved the first event by forming an alliance with Austria and France, but indirectly caused the second. Russian troops enjoyed several victories against Prussia and briefly occupied Berlin, but when Frederick the Great was finally considering surrender in January 1762, the Russian Empress died. She was the last agnatic member of the House of Romanov to reign over the Russian Empire.\\n\\n\\n== Early life ==\\n\\n\\n=== Childhood and teenage years ===\\n\\nElizabeth was born at Kolomenskoye, near Moscow, Russia, on 18 December 1709 (O.S.). Her parents were Peter the Great, Tsar of Russia and Catherine. Catherine was the daughter of Samuel Skowroński, a subject of Grand Duchy of Lithuania. Although no documentary record exists, her parents were said to have married secretly at the Cathedral of the Holy Trinity in Saint Petersburg at some point between 23 October and 1 December 1707. Their official marriage was at Saint Isaac\\'s Cathedral in Saint Petersburg on 9 February 1712. On this day, the two children previously born to the couple (Anna and Elizabeth) were legitimised by their father and given the title of Tsarevna (\"princess\") on 6 March 1711. Of the twelve children born to Peter and Catherine (five sons and seven daughters), only the sisters survived to adulthood. They had one older surviving sibling, crown prince Alexei Petrovich, who was Peter\\'s son by his first wife, noblewoman Eudoxia Lopukhina.\\n\\nAs a child, Elizabeth was the favourite of her father, whom she resembled both physically and temperamentally. Even though he adored his daughter, Peter did not devote time or attention to her education; having both a son and grandson from his first marriage to a noblewoman, he did not anticipate that a daughter born to his former maid might one day inherit the Russian throne, which had until that point never been occupied by a woman; as such, it was left to ')),\n",
       " GraphDocument(nodes=[Node(id='House Of Tudor', type='Dynasty', properties={}), Node(id='Ednyfed Fychan', type='Person', properties={}), Node(id='Tudors Of Penmynydd', type='Noble family', properties={}), Node(id='Catherine Of Valois', type='Person', properties={}), Node(id='House Of Lancaster', type='Dynasty', properties={}), Node(id='Henry Vii', type='Monarch', properties={}), Node(id='Henry Viii', type='Monarch', properties={}), Node(id='Edward Vi', type='Monarch', properties={}), Node(id='Mary I', type='Monarch', properties={}), Node(id='Elizabeth I', type='Monarch', properties={}), Node(id='House Of Plantagenet', type='Dynasty', properties={}), Node(id='House Of Stuart', type='Dynasty', properties={}), Node(id='Kingdom Of England', type='Kingdom', properties={}), Node(id='Lordship Of Ireland', type='Lordship', properties={}), Node(id='Kingdom Of Ireland', type='Kingdom', properties={}), Node(id='House Of Beaufort', type='Noble family', properties={}), Node(id='Edmund Tudor', type='Person', properties={}), Node(id='Henry Vi', type='Monarch', properties={}), Node(id='Elizabeth Of York', type='Person', properties={}), Node(id='Edward Iv', type='Monarch', properties={}), Node(id='Principality Of Wales', type='Principality', properties={}), Node(id='Kingdom Of France', type='Kingdom', properties={})], relationships=[Relationship(source=Node(id='House Of Tudor', type='Dynasty', properties={}), target=Node(id='Ednyfed Fychan', type='Person', properties={}), type='DESCENDED_FROM', properties={}), Relationship(source=Node(id='House Of Tudor', type='Dynasty', properties={}), target=Node(id='Tudors Of Penmynydd', type='Noble family', properties={}), type='DESCENDED_FROM', properties={}), Relationship(source=Node(id='House Of Tudor', type='Dynasty', properties={}), target=Node(id='Catherine Of Valois', type='Person', properties={}), type='DESCENDED_FROM', properties={}), Relationship(source=Node(id='House Of Tudor', type='Dynasty', properties={}), target=Node(id='House Of Lancaster', type='Dynasty', properties={}), type='DESCENDED_FROM', properties={}), Relationship(source=Node(id='Henry Vii', type='Monarch', properties={}), target=Node(id='House Of Tudor', type='Dynasty', properties={}), type='FOUNDED', properties={}), Relationship(source=Node(id='Henry Viii', type='Monarch', properties={}), target=Node(id='House Of Tudor', type='Dynasty', properties={}), type='MONARCH_OF', properties={}), Relationship(source=Node(id='Edward Vi', type='Monarch', properties={}), target=Node(id='House Of Tudor', type='Dynasty', properties={}), type='MONARCH_OF', properties={}), Relationship(source=Node(id='Mary I', type='Monarch', properties={}), target=Node(id='House Of Tudor', type='Dynasty', properties={}), type='MONARCH_OF', properties={}), Relationship(source=Node(id='Elizabeth I', type='Monarch', properties={}), target=Node(id='House Of Tudor', type='Dynasty', properties={}), type='MONARCH_OF', properties={}), Relationship(source=Node(id='House Of Tudor', type='Dynasty', properties={}), target=Node(id='House Of Plantagenet', type='Dynasty', properties={}), type='SUCCEEDED', properties={}), Relationship(source=Node(id='House Of Stuart', type='Dynasty', properties={}), target=Node(id='House Of Tudor', type='Dynasty', properties={}), type='SUCCEEDED', properties={}), Relationship(source=Node(id='Henry Vii', type='Monarch', properties={}), target=Node(id='House Of Beaufort', type='Noble family', properties={}), type='DESCENDED_FROM', properties={}), Relationship(source=Node(id='Edmund Tudor', type='Person', properties={}), target=Node(id='Henry Vi', type='Monarch', properties={}), type='HALF-BROTHER_OF', properties={}), Relationship(source=Node(id='Henry Vii', type='Monarch', properties={}), target=Node(id='Elizabeth Of York', type='Person', properties={}), type='MARRIED', properties={}), Relationship(source=Node(id='Elizabeth Of York', type='Person', properties={}), target=Node(id='Edward Iv', type='Monarch', properties={}), type='DAUGHTER_OF', properties={}), Relationship(source=Node(id='House Of Tudor', type='Dynasty', properties={}), target=Node(id='Principality Of Wales', type='Principality', properties={}), type='UNITED_WITH', properties={}), Relationship(source=Node(id='House Of Tudor', type='Dynasty', properties={}), target=Node(id='Kingdom Of Ireland', type='Kingdom', properties={}), type='ASSERTED_AUTHORITY_OVER', properties={}), Relationship(source=Node(id='House Of Tudor', type='Dynasty', properties={}), target=Node(id='Kingdom Of France', type='Kingdom', properties={}), type='CLAIMED', properties={})], source=Document(metadata={'title': 'House of Tudor', 'summary': \"The House of Tudor ( TEW-dər) was an English and Welsh dynasty that held the throne of England from 1485 to 1603. They descended ultimately from Ednyfed Fychan and the Tudors of Penmynydd, a Welsh noble family, and Catherine of Valois. The Tudor monarchs were also descended from the House of Lancaster. They ruled the Kingdom of England and the Lordship of Ireland (later the Kingdom of Ireland) for 118 years with five monarchs: Henry VII, Henry VIII, Edward VI, Mary I and Elizabeth I. The Tudors succeeded the House of Plantagenet as rulers of the Kingdom of England, and were succeeded by the Scottish House of Stuart. The first Tudor monarch, Henry VII, descended through his mother from the House of Beaufort, a legitimised branch of the English royal House of Lancaster, a cadet house of the Plantagenets. The Tudor family rose to power and started the Tudor period in the wake of the Wars of the Roses (1455–1487), which left the main House of Lancaster (with which the Tudors were aligned) extinct in the male line.\\nHenry VII (a descendant of Edward III, and the son of Edmund Tudor, a half-brother of Henry VI) succeeded in presenting himself as a candidate not only for traditional Lancastrian supporters, but also for discontented supporters of their rival Plantagenet cadet House of York, and he took the throne by right of conquest. Following his victory at the Battle of Bosworth Field (22 August 1485), he reinforced his position in 1486 by fulfilling his 1483 vow to marry Elizabeth of York, daughter of King Edward IV and the heiress of the Yorkist claim to the throne, thus symbolically uniting the former warring factions of Lancaster and York under the new dynasty (represented by the Tudor rose). The Tudors extended their power beyond modern England, achieving the full union of England and the Principality of Wales in 1542 (Laws in Wales Acts 1535 and 1542), and successfully asserting English authority over the Kingdom of Ireland (proclaimed by the Crown of Ireland Act 1542). They also maintained the nominal English claim to the Kingdom of France; although none of them made substance of it, Henry VIII fought wars with France primarily as a matter of international alliances but also asserting claim to the title. After him, his daughter Mary I lost control of all territory in France permanently with the Siege of Calais in 1558.\\nIn total, the Tudor monarchs ruled their domains for 118 years. Henry VIII (r.\\u20091509–1547) was the only son of Henry VII to live to the age of maturity, and he proved a dominant ruler. Issues around royal succession (including marriage and the succession rights of women) became major political themes during the Tudor era, as did the English Reformation in religion, impacting the future of the Crown. Elizabeth I was the longest serving Tudor monarch at 44 years, and her reign—known as the Elizabethan Era—provided a period of stability after the short, troubled reigns of her siblings.  When Elizabeth I died childless, her cousin of the Scottish House of Stuart succeeded her, in the Union of the Crowns of 24 March 1603. The first Stuart to become King of England (r.\\u20091603–1625), James VI and I, was a great-grandson of Henry VII's daughter Margaret Tudor, who in 1503 had married James IV of Scotland in accordance with the 1502 Treaty of Perpetual Peace. A connection persists to the present 21st century, as Charles III is a ninth-generation descendant of George I, who in turn was James VI and I's great-grandson.\\n\\n\", 'source': 'https://en.wikipedia.org/wiki/House_of_Tudor'}, page_content='The House of Tudor ( TEW-dər) was an English and Welsh dynasty that held the throne of England from 1485 to 1603. They descended ultimately from Ednyfed Fychan and the Tudors of Penmynydd, a Welsh noble family, and Catherine of Valois. The Tudor monarchs were also descended from the House of Lancaster. They ruled the Kingdom of England and the Lordship of Ireland (later the Kingdom of Ireland) for 118 years with five monarchs: Henry VII, Henry VIII, Edward VI, Mary I and Elizabeth I. The Tudors succeeded the House of Plantagenet as rulers of the Kingdom of England, and were succeeded by the Scottish House of Stuart. The first Tudor monarch, Henry VII, descended through his mother from the House of Beaufort, a legitimised branch of the English royal House of Lancaster, a cadet house of the Plantagenets. The Tudor family rose to power and started the Tudor period in the wake of the Wars of the Roses (1455–1487), which left the main House of Lancaster (with which the Tudors were aligned) extinct in the male line.\\nHenry VII (a descendant of Edward III, and the son of Edmund Tudor, a half-brother of Henry VI) succeeded in presenting himself as a candidate not only for traditional Lancastrian supporters, but also for discontented supporters of their rival Plantagenet cadet House of York, and he took the throne by right of conquest. Following his victory at the Battle of Bosworth Field (22 August 1485), he reinforced his position in 1486 by fulfilling his 1483 vow to marry Elizabeth of York, daughter of King Edward IV and the heiress of the Yorkist claim to the throne, thus symbolically uniting the former warring factions of Lancaster and York under the new dynasty (represented by the Tudor rose). The Tudors extended their power beyond modern England, achieving the full union of England and the Principality of Wales in 1542 (Laws in Wales Acts 1535 and 1542), and successfully asserting English authority over the Kingdom of Ireland (proclaimed by the Crown of Ireland Act 1542). They also maintained the nominal English claim to the Kingdom of France; although none of them made substance of it, Henry VIII fought wars with France primarily as a matter of international alliances but also asserting claim to the title. After him, his daughter Mary I lost control of all territory in France permanently with the Siege of')),\n",
       " GraphDocument(nodes=[Node(id='Henry Viii', type='Person', properties={}), Node(id='Mary I', type='Person', properties={}), Node(id='Elizabeth I', type='Person', properties={}), Node(id='James Vi And I', type='Person', properties={}), Node(id='Charles Iii', type='Person', properties={}), Node(id='Henry Vii', type='Person', properties={}), Node(id='John Beaufort, 1St Earl Of Somerset', type='Person', properties={}), Node(id='John Of Gaunt', type='Person', properties={}), Node(id='Katherine Swynford', type='Person', properties={}), Node(id='Edward Iii', type='Person', properties={}), Node(id='George I', type='Person', properties={}), Node(id='Margaret Tudor', type='Person', properties={}), Node(id='James Iv Of Scotland', type='Person', properties={})], relationships=[Relationship(source=Node(id='Henry Vii', type='Person', properties={}), target=Node(id='Henry Viii', type='Person', properties={}), type='PARENT', properties={}), Relationship(source=Node(id='Henry Viii', type='Person', properties={}), target=Node(id='Mary I', type='Person', properties={}), type='PARENT', properties={}), Relationship(source=Node(id='Henry Viii', type='Person', properties={}), target=Node(id='Elizabeth I', type='Person', properties={}), type='PARENT', properties={}), Relationship(source=Node(id='Elizabeth I', type='Person', properties={}), target=Node(id='James Vi And I', type='Person', properties={}), type='COUSIN', properties={}), Relationship(source=Node(id='James Vi And I', type='Person', properties={}), target=Node(id='George I', type='Person', properties={}), type='ANCESTOR', properties={}), Relationship(source=Node(id='George I', type='Person', properties={}), target=Node(id='Charles Iii', type='Person', properties={}), type='ANCESTOR', properties={}), Relationship(source=Node(id='John Of Gaunt', type='Person', properties={}), target=Node(id='John Beaufort, 1St Earl Of Somerset', type='Person', properties={}), type='PARENT', properties={}), Relationship(source=Node(id='John Beaufort, 1St Earl Of Somerset', type='Person', properties={}), target=Node(id='Margaret Tudor', type='Person', properties={}), type='ANCESTOR', properties={}), Relationship(source=Node(id='Margaret Tudor', type='Person', properties={}), target=Node(id='James Vi And I', type='Person', properties={}), type='PARENT', properties={}), Relationship(source=Node(id='James Iv Of Scotland', type='Person', properties={}), target=Node(id='Margaret Tudor', type='Person', properties={}), type='SPOUSE', properties={}), Relationship(source=Node(id='Edward Iii', type='Person', properties={}), target=Node(id='John Of Gaunt', type='Person', properties={}), type='PARENT', properties={})], source=Document(metadata={'title': 'House of Tudor', 'summary': \"The House of Tudor ( TEW-dər) was an English and Welsh dynasty that held the throne of England from 1485 to 1603. They descended ultimately from Ednyfed Fychan and the Tudors of Penmynydd, a Welsh noble family, and Catherine of Valois. The Tudor monarchs were also descended from the House of Lancaster. They ruled the Kingdom of England and the Lordship of Ireland (later the Kingdom of Ireland) for 118 years with five monarchs: Henry VII, Henry VIII, Edward VI, Mary I and Elizabeth I. The Tudors succeeded the House of Plantagenet as rulers of the Kingdom of England, and were succeeded by the Scottish House of Stuart. The first Tudor monarch, Henry VII, descended through his mother from the House of Beaufort, a legitimised branch of the English royal House of Lancaster, a cadet house of the Plantagenets. The Tudor family rose to power and started the Tudor period in the wake of the Wars of the Roses (1455–1487), which left the main House of Lancaster (with which the Tudors were aligned) extinct in the male line.\\nHenry VII (a descendant of Edward III, and the son of Edmund Tudor, a half-brother of Henry VI) succeeded in presenting himself as a candidate not only for traditional Lancastrian supporters, but also for discontented supporters of their rival Plantagenet cadet House of York, and he took the throne by right of conquest. Following his victory at the Battle of Bosworth Field (22 August 1485), he reinforced his position in 1486 by fulfilling his 1483 vow to marry Elizabeth of York, daughter of King Edward IV and the heiress of the Yorkist claim to the throne, thus symbolically uniting the former warring factions of Lancaster and York under the new dynasty (represented by the Tudor rose). The Tudors extended their power beyond modern England, achieving the full union of England and the Principality of Wales in 1542 (Laws in Wales Acts 1535 and 1542), and successfully asserting English authority over the Kingdom of Ireland (proclaimed by the Crown of Ireland Act 1542). They also maintained the nominal English claim to the Kingdom of France; although none of them made substance of it, Henry VIII fought wars with France primarily as a matter of international alliances but also asserting claim to the title. After him, his daughter Mary I lost control of all territory in France permanently with the Siege of Calais in 1558.\\nIn total, the Tudor monarchs ruled their domains for 118 years. Henry VIII (r.\\u20091509–1547) was the only son of Henry VII to live to the age of maturity, and he proved a dominant ruler. Issues around royal succession (including marriage and the succession rights of women) became major political themes during the Tudor era, as did the English Reformation in religion, impacting the future of the Crown. Elizabeth I was the longest serving Tudor monarch at 44 years, and her reign—known as the Elizabethan Era—provided a period of stability after the short, troubled reigns of her siblings.  When Elizabeth I died childless, her cousin of the Scottish House of Stuart succeeded her, in the Union of the Crowns of 24 March 1603. The first Stuart to become King of England (r.\\u20091603–1625), James VI and I, was a great-grandson of Henry VII's daughter Margaret Tudor, who in 1503 had married James IV of Scotland in accordance with the 1502 Treaty of Perpetual Peace. A connection persists to the present 21st century, as Charles III is a ninth-generation descendant of George I, who in turn was James VI and I's great-grandson.\\n\\n\", 'source': 'https://en.wikipedia.org/wiki/House_of_Tudor'}, page_content=\" asserting claim to the title. After him, his daughter Mary I lost control of all territory in France permanently with the Siege of Calais in 1558.\\nIn total, the Tudor monarchs ruled their domains for 118 years. Henry VIII (r.\\u20091509–1547) was the only son of Henry VII to live to the age of maturity, and he proved a dominant ruler. Issues around royal succession (including marriage and the succession rights of women) became major political themes during the Tudor era, as did the English Reformation in religion, impacting the future of the Crown. Elizabeth I was the longest serving Tudor monarch at 44 years, and her reign—known as the Elizabethan Era—provided a period of stability after the short, troubled reigns of her siblings.  When Elizabeth I died childless, her cousin of the Scottish House of Stuart succeeded her, in the Union of the Crowns of 24 March 1603. The first Stuart to become King of England (r.\\u20091603–1625), James VI and I, was a great-grandson of Henry VII's daughter Margaret Tudor, who in 1503 had married James IV of Scotland in accordance with the 1502 Treaty of Perpetual Peace. A connection persists to the present 21st century, as Charles III is a ninth-generation descendant of George I, who in turn was James VI and I's great-grandson.\\n\\n\\n== Ascent to the throne ==\\nThe Tudors descended from King Edward III on Henry VII's mother's side from John Beaufort, 1st Earl of Somerset, one of the illegitimate children of the 14th century English prince John of Gaunt, the third surviving son of Edward III. Beaufort's mother was Gaunt's long-term mistress, Katherine Swynford.\\nThe descendants of an illegitimate child of English royalty would normally have no claim on the throne, although Gaunt and Swynford eventually married in 1396, when John Beaufort wa\"))]"
      ]
     },
     "execution_count": 18,
     "metadata": {},
     "output_type": "execute_result"
    }
   ],
   "source": [
    "graph_documents= llm_transformer.convert_to_graph_documents(documents)\n",
    "graph_documents"
   ]
  },
  {
   "cell_type": "code",
   "execution_count": 19,
   "id": "95dc2238",
   "metadata": {},
   "outputs": [],
   "source": [
    "graph.add_graph_documents(\n",
    "    graph_documents=graph_documents,\n",
    "    baseEntityLabel=True,\n",
    "    include_source=True\n",
    ")"
   ]
  },
  {
   "cell_type": "code",
   "execution_count": 20,
   "id": "f62c716a",
   "metadata": {},
   "outputs": [],
   "source": [
    "default_cypher= \"mATCH (s)-[r:!MENTIONS]->(t) RETURN s,r,t LIMIT 50\""
   ]
  },
  {
   "cell_type": "code",
   "execution_count": 21,
   "id": "d10497e1",
   "metadata": {},
   "outputs": [
    {
     "name": "stdout",
     "output_type": "stream",
     "text": [
      "Source node: <Node element_id='4:737a4504-02fd-4a57-8f18-4a8065cc0f24:1' labels=frozenset({'Person', 'Monarch', '__Entity__'}) properties={'id': 'Elizabeth I'}>\n",
      "Relationship: CHILD\n",
      "Target node: <Node element_id='4:737a4504-02fd-4a57-8f18-4a8065cc0f24:2' labels=frozenset({'Person', 'Monarch', '__Entity__'}) properties={'id': 'Henry Viii'}>\n",
      "------------------------------\n",
      "Source node: <Node element_id='4:737a4504-02fd-4a57-8f18-4a8065cc0f24:1' labels=frozenset({'Person', 'Monarch', '__Entity__'}) properties={'id': 'Elizabeth I'}>\n",
      "Relationship: CHILD\n",
      "Target node: <Node element_id='4:737a4504-02fd-4a57-8f18-4a8065cc0f24:3' labels=frozenset({'Person', '__Entity__'}) properties={'id': 'Anne Boleyn'}>\n",
      "------------------------------\n",
      "Source node: <Node element_id='4:737a4504-02fd-4a57-8f18-4a8065cc0f24:1' labels=frozenset({'Person', 'Monarch', '__Entity__'}) properties={'id': 'Elizabeth I'}>\n",
      "Relationship: SIBLING\n",
      "Target node: <Node element_id='4:737a4504-02fd-4a57-8f18-4a8065cc0f24:4' labels=frozenset({'Person', 'Monarch', '__Entity__'}) properties={'id': 'Edward Vi'}>\n",
      "------------------------------\n",
      "Source node: <Node element_id='4:737a4504-02fd-4a57-8f18-4a8065cc0f24:1' labels=frozenset({'Person', 'Monarch', '__Entity__'}) properties={'id': 'Elizabeth I'}>\n",
      "Relationship: SIBLING\n",
      "Target node: <Node element_id='4:737a4504-02fd-4a57-8f18-4a8065cc0f24:6' labels=frozenset({'Person', '__Entity__'}) properties={'id': 'Mary'}>\n",
      "------------------------------\n",
      "Source node: <Node element_id='4:737a4504-02fd-4a57-8f18-4a8065cc0f24:1' labels=frozenset({'Person', 'Monarch', '__Entity__'}) properties={'id': 'Elizabeth I'}>\n",
      "Relationship: ADVISER\n",
      "Target node: <Node element_id='4:737a4504-02fd-4a57-8f18-4a8065cc0f24:7' labels=frozenset({'Person', '__Entity__'}) properties={'id': 'William Cecil'}>\n",
      "------------------------------\n",
      "Source node: <Node element_id='4:737a4504-02fd-4a57-8f18-4a8065cc0f24:1' labels=frozenset({'Person', 'Monarch', '__Entity__'}) properties={'id': 'Elizabeth I'}>\n",
      "Relationship: COUSIN\n",
      "Target node: <Node element_id='4:737a4504-02fd-4a57-8f18-4a8065cc0f24:8' labels=frozenset({'Person', '__Entity__'}) properties={'id': 'James Vi Of Scotland'}>\n",
      "------------------------------\n",
      "Source node: <Node element_id='4:737a4504-02fd-4a57-8f18-4a8065cc0f24:1' labels=frozenset({'Person', 'Monarch', '__Entity__'}) properties={'id': 'Elizabeth I'}>\n",
      "Relationship: COUSIN\n",
      "Target node: <Node element_id='4:737a4504-02fd-4a57-8f18-4a8065cc0f24:79' labels=frozenset({'Person', '__Entity__'}) properties={'id': 'James Vi And I'}>\n",
      "------------------------------\n",
      "Source node: <Node element_id='4:737a4504-02fd-4a57-8f18-4a8065cc0f24:1' labels=frozenset({'Person', 'Monarch', '__Entity__'}) properties={'id': 'Elizabeth I'}>\n",
      "Relationship: MEMBER\n",
      "Target node: <Node element_id='4:737a4504-02fd-4a57-8f18-4a8065cc0f24:10' labels=frozenset({'Dynasty', '__Entity__'}) properties={'id': 'House Of Tudor'}>\n",
      "------------------------------\n",
      "Source node: <Node element_id='4:737a4504-02fd-4a57-8f18-4a8065cc0f24:1' labels=frozenset({'Person', 'Monarch', '__Entity__'}) properties={'id': 'Elizabeth I'}>\n",
      "Relationship: QUEEN\n",
      "Target node: <Node element_id='4:737a4504-02fd-4a57-8f18-4a8065cc0f24:11' labels=frozenset({'Country', '__Entity__'}) properties={'id': 'England'}>\n",
      "------------------------------\n",
      "Source node: <Node element_id='4:737a4504-02fd-4a57-8f18-4a8065cc0f24:1' labels=frozenset({'Person', 'Monarch', '__Entity__'}) properties={'id': 'Elizabeth I'}>\n",
      "Relationship: QUEEN\n",
      "Target node: <Node element_id='4:737a4504-02fd-4a57-8f18-4a8065cc0f24:12' labels=frozenset({'Country', '__Entity__'}) properties={'id': 'Ireland'}>\n",
      "------------------------------\n",
      "Source node: <Node element_id='4:737a4504-02fd-4a57-8f18-4a8065cc0f24:1' labels=frozenset({'Person', 'Monarch', '__Entity__'}) properties={'id': 'Elizabeth I'}>\n",
      "Relationship: SUPREME_GOVERNOR\n",
      "Target node: <Node element_id='4:737a4504-02fd-4a57-8f18-4a8065cc0f24:13' labels=frozenset({'Organization', '__Entity__'}) properties={'id': 'Church Of England'}>\n",
      "------------------------------\n",
      "Source node: <Node element_id='4:737a4504-02fd-4a57-8f18-4a8065cc0f24:1' labels=frozenset({'Person', 'Monarch', '__Entity__'}) properties={'id': 'Elizabeth I'}>\n",
      "Relationship: MONARCH_OF\n",
      "Target node: <Node element_id='4:737a4504-02fd-4a57-8f18-4a8065cc0f24:10' labels=frozenset({'Dynasty', '__Entity__'}) properties={'id': 'House Of Tudor'}>\n",
      "------------------------------\n",
      "Source node: <Node element_id='4:737a4504-02fd-4a57-8f18-4a8065cc0f24:2' labels=frozenset({'Person', 'Monarch', '__Entity__'}) properties={'id': 'Henry Viii'}>\n",
      "Relationship: FATHER\n",
      "Target node: <Node element_id='4:737a4504-02fd-4a57-8f18-4a8065cc0f24:15' labels=frozenset({'Person', '__Entity__'}) properties={'id': 'Elizabeth'}>\n",
      "------------------------------\n",
      "Source node: <Node element_id='4:737a4504-02fd-4a57-8f18-4a8065cc0f24:2' labels=frozenset({'Person', 'Monarch', '__Entity__'}) properties={'id': 'Henry Viii'}>\n",
      "Relationship: MONARCH_OF\n",
      "Target node: <Node element_id='4:737a4504-02fd-4a57-8f18-4a8065cc0f24:10' labels=frozenset({'Dynasty', '__Entity__'}) properties={'id': 'House Of Tudor'}>\n",
      "------------------------------\n",
      "Source node: <Node element_id='4:737a4504-02fd-4a57-8f18-4a8065cc0f24:2' labels=frozenset({'Person', 'Monarch', '__Entity__'}) properties={'id': 'Henry Viii'}>\n",
      "Relationship: PARENT\n",
      "Target node: <Node element_id='4:737a4504-02fd-4a57-8f18-4a8065cc0f24:1' labels=frozenset({'Person', 'Monarch', '__Entity__'}) properties={'id': 'Elizabeth I'}>\n",
      "------------------------------\n",
      "Source node: <Node element_id='4:737a4504-02fd-4a57-8f18-4a8065cc0f24:2' labels=frozenset({'Person', 'Monarch', '__Entity__'}) properties={'id': 'Henry Viii'}>\n",
      "Relationship: PARENT\n",
      "Target node: <Node element_id='4:737a4504-02fd-4a57-8f18-4a8065cc0f24:66' labels=frozenset({'Person', 'Monarch', '__Entity__'}) properties={'id': 'Mary I'}>\n",
      "------------------------------\n",
      "Source node: <Node element_id='4:737a4504-02fd-4a57-8f18-4a8065cc0f24:3' labels=frozenset({'Person', '__Entity__'}) properties={'id': 'Anne Boleyn'}>\n",
      "Relationship: MOTHER\n",
      "Target node: <Node element_id='4:737a4504-02fd-4a57-8f18-4a8065cc0f24:15' labels=frozenset({'Person', '__Entity__'}) properties={'id': 'Elizabeth'}>\n",
      "------------------------------\n",
      "Source node: <Node element_id='4:737a4504-02fd-4a57-8f18-4a8065cc0f24:4' labels=frozenset({'Person', 'Monarch', '__Entity__'}) properties={'id': 'Edward Vi'}>\n",
      "Relationship: MONARCH_OF\n",
      "Target node: <Node element_id='4:737a4504-02fd-4a57-8f18-4a8065cc0f24:10' labels=frozenset({'Dynasty', '__Entity__'}) properties={'id': 'House Of Tudor'}>\n",
      "------------------------------\n",
      "Source node: <Node element_id='4:737a4504-02fd-4a57-8f18-4a8065cc0f24:10' labels=frozenset({'Dynasty', '__Entity__'}) properties={'id': 'House Of Tudor'}>\n",
      "Relationship: DESCENDED_FROM\n",
      "Target node: <Node element_id='4:737a4504-02fd-4a57-8f18-4a8065cc0f24:61' labels=frozenset({'Person', '__Entity__'}) properties={'id': 'Ednyfed Fychan'}>\n",
      "------------------------------\n",
      "Source node: <Node element_id='4:737a4504-02fd-4a57-8f18-4a8065cc0f24:10' labels=frozenset({'Dynasty', '__Entity__'}) properties={'id': 'House Of Tudor'}>\n",
      "Relationship: DESCENDED_FROM\n",
      "Target node: <Node element_id='4:737a4504-02fd-4a57-8f18-4a8065cc0f24:62' labels=frozenset({'Noble family', '__Entity__'}) properties={'id': 'Tudors Of Penmynydd'}>\n",
      "------------------------------\n",
      "Source node: <Node element_id='4:737a4504-02fd-4a57-8f18-4a8065cc0f24:10' labels=frozenset({'Dynasty', '__Entity__'}) properties={'id': 'House Of Tudor'}>\n",
      "Relationship: DESCENDED_FROM\n",
      "Target node: <Node element_id='4:737a4504-02fd-4a57-8f18-4a8065cc0f24:63' labels=frozenset({'Person', '__Entity__'}) properties={'id': 'Catherine Of Valois'}>\n",
      "------------------------------\n",
      "Source node: <Node element_id='4:737a4504-02fd-4a57-8f18-4a8065cc0f24:10' labels=frozenset({'Dynasty', '__Entity__'}) properties={'id': 'House Of Tudor'}>\n",
      "Relationship: DESCENDED_FROM\n",
      "Target node: <Node element_id='4:737a4504-02fd-4a57-8f18-4a8065cc0f24:64' labels=frozenset({'Dynasty', '__Entity__'}) properties={'id': 'House Of Lancaster'}>\n",
      "------------------------------\n",
      "Source node: <Node element_id='4:737a4504-02fd-4a57-8f18-4a8065cc0f24:10' labels=frozenset({'Dynasty', '__Entity__'}) properties={'id': 'House Of Tudor'}>\n",
      "Relationship: SUCCEEDED\n",
      "Target node: <Node element_id='4:737a4504-02fd-4a57-8f18-4a8065cc0f24:67' labels=frozenset({'Dynasty', '__Entity__'}) properties={'id': 'House Of Plantagenet'}>\n",
      "------------------------------\n",
      "Source node: <Node element_id='4:737a4504-02fd-4a57-8f18-4a8065cc0f24:10' labels=frozenset({'Dynasty', '__Entity__'}) properties={'id': 'House Of Tudor'}>\n",
      "Relationship: UNITED_WITH\n",
      "Target node: <Node element_id='4:737a4504-02fd-4a57-8f18-4a8065cc0f24:76' labels=frozenset({'Principality', '__Entity__'}) properties={'id': 'Principality Of Wales'}>\n",
      "------------------------------\n",
      "Source node: <Node element_id='4:737a4504-02fd-4a57-8f18-4a8065cc0f24:10' labels=frozenset({'Dynasty', '__Entity__'}) properties={'id': 'House Of Tudor'}>\n",
      "Relationship: ASSERTED_AUTHORITY_OVER\n",
      "Target node: <Node element_id='4:737a4504-02fd-4a57-8f18-4a8065cc0f24:71' labels=frozenset({'Kingdom', '__Entity__'}) properties={'id': 'Kingdom Of Ireland'}>\n",
      "------------------------------\n",
      "Source node: <Node element_id='4:737a4504-02fd-4a57-8f18-4a8065cc0f24:10' labels=frozenset({'Dynasty', '__Entity__'}) properties={'id': 'House Of Tudor'}>\n",
      "Relationship: CLAIMED\n",
      "Target node: <Node element_id='4:737a4504-02fd-4a57-8f18-4a8065cc0f24:77' labels=frozenset({'Kingdom', '__Entity__'}) properties={'id': 'Kingdom Of France'}>\n",
      "------------------------------\n",
      "Source node: <Node element_id='4:737a4504-02fd-4a57-8f18-4a8065cc0f24:15' labels=frozenset({'Person', '__Entity__'}) properties={'id': 'Elizabeth'}>\n",
      "Relationship: MONARCH\n",
      "Target node: <Node element_id='4:737a4504-02fd-4a57-8f18-4a8065cc0f24:11' labels=frozenset({'Country', '__Entity__'}) properties={'id': 'England'}>\n",
      "------------------------------\n",
      "Source node: <Node element_id='4:737a4504-02fd-4a57-8f18-4a8065cc0f24:15' labels=frozenset({'Person', '__Entity__'}) properties={'id': 'Elizabeth'}>\n",
      "Relationship: MILITARY_CAMPAIGN\n",
      "Target node: <Node element_id='4:737a4504-02fd-4a57-8f18-4a8065cc0f24:12' labels=frozenset({'Country', '__Entity__'}) properties={'id': 'Ireland'}>\n",
      "------------------------------\n",
      "Source node: <Node element_id='4:737a4504-02fd-4a57-8f18-4a8065cc0f24:15' labels=frozenset({'Person', '__Entity__'}) properties={'id': 'Elizabeth'}>\n",
      "Relationship: MILITARY_CAMPAIGN\n",
      "Target node: <Node element_id='4:737a4504-02fd-4a57-8f18-4a8065cc0f24:16' labels=frozenset({'Country', '__Entity__'}) properties={'id': 'Netherlands'}>\n",
      "------------------------------\n",
      "Source node: <Node element_id='4:737a4504-02fd-4a57-8f18-4a8065cc0f24:15' labels=frozenset({'Person', '__Entity__'}) properties={'id': 'Elizabeth'}>\n",
      "Relationship: MILITARY_CAMPAIGN\n",
      "Target node: <Node element_id='4:737a4504-02fd-4a57-8f18-4a8065cc0f24:17' labels=frozenset({'Country', '__Entity__'}) properties={'id': 'France'}>\n",
      "------------------------------\n",
      "Source node: <Node element_id='4:737a4504-02fd-4a57-8f18-4a8065cc0f24:15' labels=frozenset({'Person', '__Entity__'}) properties={'id': 'Elizabeth'}>\n",
      "Relationship: WAR\n",
      "Target node: <Node element_id='4:737a4504-02fd-4a57-8f18-4a8065cc0f24:18' labels=frozenset({'Country', '__Entity__'}) properties={'id': 'Spain'}>\n",
      "------------------------------\n",
      "Source node: <Node element_id='4:737a4504-02fd-4a57-8f18-4a8065cc0f24:15' labels=frozenset({'Person', '__Entity__'}) properties={'id': 'Elizabeth'}>\n",
      "Relationship: ALLIED_WITH\n",
      "Target node: <Node element_id='4:737a4504-02fd-4a57-8f18-4a8065cc0f24:37' labels=frozenset({'Person', '__Entity__'}) properties={'id': 'Aleksey Bestuzhev-Ryumin'}>\n",
      "------------------------------\n",
      "Source node: <Node element_id='4:737a4504-02fd-4a57-8f18-4a8065cc0f24:15' labels=frozenset({'Person', '__Entity__'}) properties={'id': 'Elizabeth'}>\n",
      "Relationship: FORMED_ALLIANCE_WITH\n",
      "Target node: <Node element_id='4:737a4504-02fd-4a57-8f18-4a8065cc0f24:17' labels=frozenset({'Country', '__Entity__'}) properties={'id': 'France'}>\n",
      "------------------------------\n",
      "Source node: <Node element_id='4:737a4504-02fd-4a57-8f18-4a8065cc0f24:15' labels=frozenset({'Person', '__Entity__'}) properties={'id': 'Elizabeth'}>\n",
      "Relationship: FORMED_ALLIANCE_WITH\n",
      "Target node: <Node element_id='4:737a4504-02fd-4a57-8f18-4a8065cc0f24:45' labels=frozenset({'Country', '__Entity__'}) properties={'id': 'Austria'}>\n",
      "------------------------------\n",
      "Source node: <Node element_id='4:737a4504-02fd-4a57-8f18-4a8065cc0f24:15' labels=frozenset({'Person', '__Entity__'}) properties={'id': 'Elizabeth'}>\n",
      "Relationship: MEMBER_OF\n",
      "Target node: <Node element_id='4:737a4504-02fd-4a57-8f18-4a8065cc0f24:48' labels=frozenset({'Dynasty', '__Entity__'}) properties={'id': 'House Of Romanov'}>\n",
      "------------------------------\n",
      "Source node: <Node element_id='4:737a4504-02fd-4a57-8f18-4a8065cc0f24:15' labels=frozenset({'Person', '__Entity__'}) properties={'id': 'Elizabeth'}>\n",
      "Relationship: REIGNED_OVER\n",
      "Target node: <Node element_id='4:737a4504-02fd-4a57-8f18-4a8065cc0f24:49' labels=frozenset({'Empire', '__Entity__'}) properties={'id': 'Russian Empire'}>\n",
      "------------------------------\n",
      "Source node: <Node element_id='4:737a4504-02fd-4a57-8f18-4a8065cc0f24:15' labels=frozenset({'Person', '__Entity__'}) properties={'id': 'Elizabeth'}>\n",
      "Relationship: BORN_AT\n",
      "Target node: <Node element_id='4:737a4504-02fd-4a57-8f18-4a8065cc0f24:53' labels=frozenset({'Location', '__Entity__'}) properties={'id': 'Kolomenskoye'}>\n",
      "------------------------------\n",
      "Source node: <Node element_id='4:737a4504-02fd-4a57-8f18-4a8065cc0f24:15' labels=frozenset({'Person', '__Entity__'}) properties={'id': 'Elizabeth'}>\n",
      "Relationship: BORN_NEAR\n",
      "Target node: <Node element_id='4:737a4504-02fd-4a57-8f18-4a8065cc0f24:54' labels=frozenset({'City', '__Entity__'}) properties={'id': 'Moscow'}>\n",
      "------------------------------\n",
      "Source node: <Node element_id='4:737a4504-02fd-4a57-8f18-4a8065cc0f24:15' labels=frozenset({'Person', '__Entity__'}) properties={'id': 'Elizabeth'}>\n",
      "Relationship: BORN_IN\n",
      "Target node: <Node element_id='4:737a4504-02fd-4a57-8f18-4a8065cc0f24:38' labels=frozenset({'Country', '__Entity__'}) properties={'id': 'Russia'}>\n",
      "------------------------------\n",
      "Source node: <Node element_id='4:737a4504-02fd-4a57-8f18-4a8065cc0f24:19' labels=frozenset({'Person', '__Entity__'}) properties={'id': 'William Shakespeare'}>\n",
      "Relationship: PLAYWRIGHT\n",
      "Target node: <Node element_id='4:737a4504-02fd-4a57-8f18-4a8065cc0f24:15' labels=frozenset({'Person', '__Entity__'}) properties={'id': 'Elizabeth'}>\n",
      "------------------------------\n",
      "Source node: <Node element_id='4:737a4504-02fd-4a57-8f18-4a8065cc0f24:20' labels=frozenset({'Person', '__Entity__'}) properties={'id': 'Christopher Marlowe'}>\n",
      "Relationship: PLAYWRIGHT\n",
      "Target node: <Node element_id='4:737a4504-02fd-4a57-8f18-4a8065cc0f24:15' labels=frozenset({'Person', '__Entity__'}) properties={'id': 'Elizabeth'}>\n",
      "------------------------------\n",
      "Source node: <Node element_id='4:737a4504-02fd-4a57-8f18-4a8065cc0f24:21' labels=frozenset({'Person', '__Entity__'}) properties={'id': 'Francis Drake'}>\n",
      "Relationship: MARITIME_ADVENTURER\n",
      "Target node: <Node element_id='4:737a4504-02fd-4a57-8f18-4a8065cc0f24:15' labels=frozenset({'Person', '__Entity__'}) properties={'id': 'Elizabeth'}>\n",
      "------------------------------\n",
      "Source node: <Node element_id='4:737a4504-02fd-4a57-8f18-4a8065cc0f24:22' labels=frozenset({'Person', '__Entity__'}) properties={'id': 'Walter Raleigh'}>\n",
      "Relationship: MARITIME_ADVENTURER\n",
      "Target node: <Node element_id='4:737a4504-02fd-4a57-8f18-4a8065cc0f24:15' labels=frozenset({'Person', '__Entity__'}) properties={'id': 'Elizabeth'}>\n",
      "------------------------------\n",
      "Source node: <Node element_id='4:737a4504-02fd-4a57-8f18-4a8065cc0f24:23' labels=frozenset({'Person', '__Entity__'}) properties={'id': 'Elizabeth Of York'}>\n",
      "Relationship: GRANDMOTHER\n",
      "Target node: <Node element_id='4:737a4504-02fd-4a57-8f18-4a8065cc0f24:15' labels=frozenset({'Person', '__Entity__'}) properties={'id': 'Elizabeth'}>\n",
      "------------------------------\n",
      "Source node: <Node element_id='4:737a4504-02fd-4a57-8f18-4a8065cc0f24:23' labels=frozenset({'Person', '__Entity__'}) properties={'id': 'Elizabeth Of York'}>\n",
      "Relationship: DAUGHTER_OF\n",
      "Target node: <Node element_id='4:737a4504-02fd-4a57-8f18-4a8065cc0f24:75' labels=frozenset({'Monarch', '__Entity__'}) properties={'id': 'Edward Iv'}>\n",
      "------------------------------\n",
      "Source node: <Node element_id='4:737a4504-02fd-4a57-8f18-4a8065cc0f24:24' labels=frozenset({'Person', '__Entity__'}) properties={'id': 'Lady Elizabeth Howard'}>\n",
      "Relationship: GRANDMOTHER\n",
      "Target node: <Node element_id='4:737a4504-02fd-4a57-8f18-4a8065cc0f24:15' labels=frozenset({'Person', '__Entity__'}) properties={'id': 'Elizabeth'}>\n",
      "------------------------------\n",
      "Source node: <Node element_id='4:737a4504-02fd-4a57-8f18-4a8065cc0f24:26' labels=frozenset({'Person', '__Entity__'}) properties={'id': 'Elizabeth Petrovna'}>\n",
      "Relationship: DAUGHTER_OF\n",
      "Target node: <Node element_id='4:737a4504-02fd-4a57-8f18-4a8065cc0f24:27' labels=frozenset({'Person', '__Entity__'}) properties={'id': 'Peter The Great'}>\n",
      "------------------------------\n",
      "Source node: <Node element_id='4:737a4504-02fd-4a57-8f18-4a8065cc0f24:26' labels=frozenset({'Person', '__Entity__'}) properties={'id': 'Elizabeth Petrovna'}>\n",
      "Relationship: EMPRESS_OF\n",
      "Target node: <Node element_id='4:737a4504-02fd-4a57-8f18-4a8065cc0f24:38' labels=frozenset({'Country', '__Entity__'}) properties={'id': 'Russia'}>\n",
      "------------------------------\n",
      "Source node: <Node element_id='4:737a4504-02fd-4a57-8f18-4a8065cc0f24:26' labels=frozenset({'Person', '__Entity__'}) properties={'id': 'Elizabeth Petrovna'}>\n",
      "Relationship: SUPPORTED\n",
      "Target node: <Node element_id='4:737a4504-02fd-4a57-8f18-4a8065cc0f24:34' labels=frozenset({'Person', '__Entity__'}) properties={'id': 'Mikhail Lomonosov'}>\n",
      "------------------------------\n",
      "Source node: <Node element_id='4:737a4504-02fd-4a57-8f18-4a8065cc0f24:26' labels=frozenset({'Person', '__Entity__'}) properties={'id': 'Elizabeth Petrovna'}>\n",
      "Relationship: SUPPORTED\n",
      "Target node: <Node element_id='4:737a4504-02fd-4a57-8f18-4a8065cc0f24:35' labels=frozenset({'Person', '__Entity__'}) properties={'id': 'Ivan Shuvalov'}>\n",
      "------------------------------\n"
     ]
    }
   ],
   "source": [
    "import os\n",
    "from dotenv import load_dotenv\n",
    "from neo4j import GraphDatabase\n",
    "\n",
    "load_dotenv()  # load .env file\n",
    "\n",
    "uri = os.getenv(\"NEO4J_URL\")\n",
    "user = os.getenv(\"NEO4J_USERNAME\")\n",
    "password = os.getenv(\"NEO4J_PASSWORD\")\n",
    "\n",
    "driver = GraphDatabase.driver(uri, auth=(user, password))\n",
    "neo4j_session = driver.session()\n",
    "\n",
    "query = \"\"\"\n",
    "MATCH (s)-[r]->(t)\n",
    "WHERE type(r) <> 'MENTIONS'\n",
    "RETURN s, r, t\n",
    "LIMIT 50\n",
    "\"\"\"\n",
    "\n",
    "result = neo4j_session.run(query)\n",
    "for record in result:\n",
    "    s = record[\"s\"]\n",
    "    r = record[\"r\"]\n",
    "    t = record[\"t\"]\n",
    "    print(f\"Source node: {s}\")\n",
    "    print(f\"Relationship: {r.type}\")\n",
    "    print(f\"Target node: {t}\")\n",
    "    print(\"-\" * 30)\n",
    "\n",
    "neo4j_session.close()\n",
    "driver.close()\n",
    "\n"
   ]
  },
  {
   "cell_type": "code",
   "execution_count": 22,
   "id": "25549457",
   "metadata": {},
   "outputs": [
    {
     "name": "stdout",
     "output_type": "stream",
     "text": [
      "Requirement already satisfied: pandas in g:\\datascienceprojects\\rag-chatbot-ai\\graph-rag-neo4j-langchain-groq-llm\\graph-rag-01\\lib\\site-packages (2.3.3)\n",
      "Requirement already satisfied: numpy>=1.23.2 in g:\\datascienceprojects\\rag-chatbot-ai\\graph-rag-neo4j-langchain-groq-llm\\graph-rag-01\\lib\\site-packages (from pandas) (2.3.3)\n",
      "Requirement already satisfied: python-dateutil>=2.8.2 in g:\\datascienceprojects\\rag-chatbot-ai\\graph-rag-neo4j-langchain-groq-llm\\graph-rag-01\\lib\\site-packages (from pandas) (2.9.0.post0)\n",
      "Requirement already satisfied: pytz>=2020.1 in g:\\datascienceprojects\\rag-chatbot-ai\\graph-rag-neo4j-langchain-groq-llm\\graph-rag-01\\lib\\site-packages (from pandas) (2025.2)\n",
      "Requirement already satisfied: tzdata>=2022.7 in g:\\datascienceprojects\\rag-chatbot-ai\\graph-rag-neo4j-langchain-groq-llm\\graph-rag-01\\lib\\site-packages (from pandas) (2025.2)\n",
      "Requirement already satisfied: six>=1.5 in g:\\datascienceprojects\\rag-chatbot-ai\\graph-rag-neo4j-langchain-groq-llm\\graph-rag-01\\lib\\site-packages (from python-dateutil>=2.8.2->pandas) (1.17.0)\n"
     ]
    },
    {
     "name": "stderr",
     "output_type": "stream",
     "text": [
      "\n",
      "[notice] A new release of pip is available: 23.2.1 -> 25.2\n",
      "[notice] To update, run: python.exe -m pip install --upgrade pip\n"
     ]
    }
   ],
   "source": [
    "!pip install pandas"
   ]
  },
  {
   "cell_type": "markdown",
   "id": "96007f1e",
   "metadata": {},
   "source": [
    "Verify data in Neo4j"
   ]
  },
  {
   "cell_type": "code",
   "execution_count": 23,
   "id": "95880b36",
   "metadata": {},
   "outputs": [
    {
     "name": "stdout",
     "output_type": "stream",
     "text": [
      "Node Labels:\n",
      "['__Entity__', 'Person'] 42\n",
      "['__Entity__', 'Country'] 8\n",
      "['Document'] 6\n",
      "['__Entity__', 'Dynasty'] 5\n",
      "['__Entity__', 'Person', 'Monarch'] 5\n",
      "['__Entity__', 'Kingdom'] 3\n",
      "['__Entity__', 'Building'] 3\n",
      "['__Entity__', 'Location'] 3\n",
      "['__Entity__', 'Institution'] 2\n",
      "['__Entity__', 'City'] 2\n",
      "\n",
      "Relationship Types:\n",
      "MENTIONS 101\n",
      "PARENT 6\n",
      "DESCENDED_FROM 5\n",
      "MONARCH_OF 4\n",
      "COMMISSIONED 3\n",
      "ANCESTOR 3\n",
      "MILITARY_CAMPAIGN 3\n",
      "FOUNDED 3\n",
      "QUEEN 2\n",
      "SIBLING 2\n"
     ]
    }
   ],
   "source": [
    "from neo4j import GraphDatabase\n",
    "import os\n",
    "from dotenv import load_dotenv\n",
    "\n",
    "load_dotenv()\n",
    "\n",
    "uri = os.getenv(\"NEO4J_URL\")\n",
    "user = os.getenv(\"NEO4J_USERNAME\")\n",
    "password = os.getenv(\"NEO4J_PASSWORD\")\n",
    "\n",
    "driver = GraphDatabase.driver(uri, auth=(user, password))\n",
    "\n",
    "with driver.session() as neo4j_session:\n",
    "    query_labels = \"\"\"\n",
    "    MATCH (n)\n",
    "    RETURN labels(n) AS labels, count(*) AS count\n",
    "    ORDER BY count DESC\n",
    "    LIMIT 10\n",
    "    \"\"\"\n",
    "\n",
    "    query_rels = \"\"\"\n",
    "    MATCH ()-[r]->()\n",
    "    RETURN type(r) AS rel_type, count(*) AS count\n",
    "    ORDER BY count DESC\n",
    "    LIMIT 10\n",
    "    \"\"\"\n",
    "\n",
    "    print(\"Node Labels:\")\n",
    "    for record in neo4j_session.run(query_labels):\n",
    "        print(record[\"labels\"], record[\"count\"])\n",
    "\n",
    "    print(\"\\nRelationship Types:\")\n",
    "    for record in neo4j_session.run(query_rels):\n",
    "        print(record[\"rel_type\"], record[\"count\"])\n",
    "\n",
    "driver.close()\n",
    "\n"
   ]
  },
  {
   "cell_type": "code",
   "execution_count": 24,
   "id": "416fecfb",
   "metadata": {},
   "outputs": [],
   "source": [
    "from pyvis.network import Network\n",
    "from neo4j import GraphDatabase\n",
    "import os\n",
    "from dotenv import load_dotenv\n",
    "from IPython.display import IFrame\n",
    "\n",
    "def visualize_neo4j_graph(limit=50, height=\"300px\", width=\"400px\", filename=\"neo4j_graph.html\"):\n",
    "    \"\"\"\n",
    "    Connects to Neo4j using credentials in .env,\n",
    "    runs a query to get graph data,\n",
    "    visualizes using pyvis,\n",
    "    saves and returns an iframe for inline notebook display.\n",
    "\n",
    "    Args:\n",
    "        limit (int): Number of relationships to fetch from Neo4j.\n",
    "        height (str): Height of the visualization.\n",
    "        width (str): Width of the visualization.\n",
    "        filename (str): Filename for the saved HTML graph.\n",
    "\n",
    "    Returns:\n",
    "        IPython.display.IFrame: iframe object for notebook inline display.\n",
    "    \"\"\"\n",
    "    load_dotenv()\n",
    "\n",
    "    uri = os.getenv(\"NEO4J_URL\")\n",
    "    user = os.getenv(\"NEO4J_USERNAME\")\n",
    "    password = os.getenv(\"NEO4J_PASSWORD\")\n",
    "\n",
    "    driver = GraphDatabase.driver(uri, auth=(user, password))\n",
    "\n",
    "    net = Network(height=height, width=width, notebook=True, cdn_resources='remote')\n",
    "\n",
    "    with driver.session() as session:\n",
    "        query = f\"\"\"\n",
    "        MATCH (s)-[r]->(t)\n",
    "        RETURN s, r, t\n",
    "        LIMIT {limit}\n",
    "        \"\"\"\n",
    "        results = session.run(query)\n",
    "\n",
    "        for record in results:\n",
    "            s = record[\"s\"]\n",
    "            t = record[\"t\"]\n",
    "            r = record[\"r\"]\n",
    "\n",
    "            net.add_node(s.element_id, label=\", \".join(s.labels), title=str(dict(s)))\n",
    "            net.add_node(t.element_id, label=\", \".join(t.labels), title=str(dict(t)))\n",
    "            net.add_edge(s.element_id, t.element_id, label=r.type)\n",
    "\n",
    "    driver.close()\n",
    "\n",
    "    net.save_graph(filename)\n",
    "    return IFrame(src=filename, width=width, height=height)\n"
   ]
  },
  {
   "cell_type": "code",
   "execution_count": 25,
   "id": "9a9de060",
   "metadata": {},
   "outputs": [
    {
     "data": {
      "text/html": [
       "\n",
       "        <iframe\n",
       "            width=\"400px\"\n",
       "            height=\"300px\"\n",
       "            src=\"neo4j_graph.html\"\n",
       "            frameborder=\"0\"\n",
       "            allowfullscreen\n",
       "            \n",
       "        ></iframe>\n",
       "        "
      ],
      "text/plain": [
       "<IPython.lib.display.IFrame at 0x2d4a5f15b50>"
      ]
     },
     "metadata": {},
     "output_type": "display_data"
    }
   ],
   "source": [
    "from IPython.display import display\n",
    "\n",
    "iframe = visualize_neo4j_graph(limit=50, height=\"300px\", width=\"400px\")\n",
    "display(iframe)\n"
   ]
  },
  {
   "cell_type": "code",
   "execution_count": 26,
   "id": "103ac1e6",
   "metadata": {},
   "outputs": [
    {
     "ename": "NameError",
     "evalue": "name 'filename' is not defined",
     "output_type": "error",
     "traceback": [
      "\u001b[31m---------------------------------------------------------------------------\u001b[39m",
      "\u001b[31mNameError\u001b[39m                                 Traceback (most recent call last)",
      "\u001b[36mCell\u001b[39m\u001b[36m \u001b[39m\u001b[32mIn[26]\u001b[39m\u001b[32m, line 1\u001b[39m\n\u001b[32m----> \u001b[39m\u001b[32m1\u001b[39m \u001b[38;5;28mprint\u001b[39m(\u001b[33mf\u001b[39m\u001b[33m\"\u001b[39m\u001b[33mGraph saved as \u001b[39m\u001b[38;5;132;01m{\u001b[39;00m\u001b[43mfilename\u001b[49m\u001b[38;5;132;01m}\u001b[39;00m\u001b[33m, displaying inline.\u001b[39m\u001b[33m\"\u001b[39m)\n",
      "\u001b[31mNameError\u001b[39m: name 'filename' is not defined"
     ]
    }
   ],
   "source": [
    "print(f\"Graph saved as {filename}, displaying inline.\")\n"
   ]
  },
  {
   "cell_type": "markdown",
   "id": "4608334b",
   "metadata": {},
   "source": [
    "Retriever"
   ]
  },
  {
   "cell_type": "code",
   "execution_count": 27,
   "id": "aabf402c",
   "metadata": {},
   "outputs": [],
   "source": [
    "from langchain_community.vectorstores import Neo4jVector"
   ]
  },
  {
   "cell_type": "code",
   "execution_count": 28,
   "id": "36f5dabf",
   "metadata": {},
   "outputs": [
    {
     "name": "stdout",
     "output_type": "stream",
     "text": [
      "Requirement already satisfied: sentence-transformers in g:\\datascienceprojects\\rag-chatbot-ai\\graph-rag-neo4j-langchain-groq-llm\\graph-rag-01\\lib\\site-packages (5.1.1)\n",
      "Requirement already satisfied: transformers<5.0.0,>=4.41.0 in g:\\datascienceprojects\\rag-chatbot-ai\\graph-rag-neo4j-langchain-groq-llm\\graph-rag-01\\lib\\site-packages (from sentence-transformers) (4.57.0)\n",
      "Requirement already satisfied: tqdm in g:\\datascienceprojects\\rag-chatbot-ai\\graph-rag-neo4j-langchain-groq-llm\\graph-rag-01\\lib\\site-packages (from sentence-transformers) (4.67.1)\n",
      "Requirement already satisfied: torch>=1.11.0 in g:\\datascienceprojects\\rag-chatbot-ai\\graph-rag-neo4j-langchain-groq-llm\\graph-rag-01\\lib\\site-packages (from sentence-transformers) (2.8.0)\n",
      "Requirement already satisfied: scikit-learn in g:\\datascienceprojects\\rag-chatbot-ai\\graph-rag-neo4j-langchain-groq-llm\\graph-rag-01\\lib\\site-packages (from sentence-transformers) (1.7.2)\n",
      "Requirement already satisfied: scipy in g:\\datascienceprojects\\rag-chatbot-ai\\graph-rag-neo4j-langchain-groq-llm\\graph-rag-01\\lib\\site-packages (from sentence-transformers) (1.16.2)\n",
      "Requirement already satisfied: huggingface-hub>=0.20.0 in g:\\datascienceprojects\\rag-chatbot-ai\\graph-rag-neo4j-langchain-groq-llm\\graph-rag-01\\lib\\site-packages (from sentence-transformers) (0.35.3)\n",
      "Requirement already satisfied: Pillow in g:\\datascienceprojects\\rag-chatbot-ai\\graph-rag-neo4j-langchain-groq-llm\\graph-rag-01\\lib\\site-packages (from sentence-transformers) (11.3.0)\n",
      "Requirement already satisfied: typing_extensions>=4.5.0 in g:\\datascienceprojects\\rag-chatbot-ai\\graph-rag-neo4j-langchain-groq-llm\\graph-rag-01\\lib\\site-packages (from sentence-transformers) (4.15.0)\n",
      "Requirement already satisfied: filelock in g:\\datascienceprojects\\rag-chatbot-ai\\graph-rag-neo4j-langchain-groq-llm\\graph-rag-01\\lib\\site-packages (from huggingface-hub>=0.20.0->sentence-transformers) (3.19.1)\n",
      "Requirement already satisfied: fsspec>=2023.5.0 in g:\\datascienceprojects\\rag-chatbot-ai\\graph-rag-neo4j-langchain-groq-llm\\graph-rag-01\\lib\\site-packages (from huggingface-hub>=0.20.0->sentence-transformers) (2024.12.0)\n",
      "Requirement already satisfied: packaging>=20.9 in g:\\datascienceprojects\\rag-chatbot-ai\\graph-rag-neo4j-langchain-groq-llm\\graph-rag-01\\lib\\site-packages (from huggingface-hub>=0.20.0->sentence-transformers) (25.0)\n",
      "Requirement already satisfied: pyyaml>=5.1 in g:\\datascienceprojects\\rag-chatbot-ai\\graph-rag-neo4j-langchain-groq-llm\\graph-rag-01\\lib\\site-packages (from huggingface-hub>=0.20.0->sentence-transformers) (6.0.3)\n",
      "Requirement already satisfied: requests in g:\\datascienceprojects\\rag-chatbot-ai\\graph-rag-neo4j-langchain-groq-llm\\graph-rag-01\\lib\\site-packages (from huggingface-hub>=0.20.0->sentence-transformers) (2.32.5)\n",
      "Requirement already satisfied: sympy>=1.13.3 in g:\\datascienceprojects\\rag-chatbot-ai\\graph-rag-neo4j-langchain-groq-llm\\graph-rag-01\\lib\\site-packages (from torch>=1.11.0->sentence-transformers) (1.14.0)\n",
      "Requirement already satisfied: networkx in g:\\datascienceprojects\\rag-chatbot-ai\\graph-rag-neo4j-langchain-groq-llm\\graph-rag-01\\lib\\site-packages (from torch>=1.11.0->sentence-transformers) (3.5)\n",
      "Requirement already satisfied: jinja2 in g:\\datascienceprojects\\rag-chatbot-ai\\graph-rag-neo4j-langchain-groq-llm\\graph-rag-01\\lib\\site-packages (from torch>=1.11.0->sentence-transformers) (3.1.6)\n",
      "Requirement already satisfied: colorama in g:\\datascienceprojects\\rag-chatbot-ai\\graph-rag-neo4j-langchain-groq-llm\\graph-rag-01\\lib\\site-packages (from tqdm->sentence-transformers) (0.4.6)\n",
      "Requirement already satisfied: numpy>=1.17 in g:\\datascienceprojects\\rag-chatbot-ai\\graph-rag-neo4j-langchain-groq-llm\\graph-rag-01\\lib\\site-packages (from transformers<5.0.0,>=4.41.0->sentence-transformers) (2.3.3)\n",
      "Requirement already satisfied: regex!=2019.12.17 in g:\\datascienceprojects\\rag-chatbot-ai\\graph-rag-neo4j-langchain-groq-llm\\graph-rag-01\\lib\\site-packages (from transformers<5.0.0,>=4.41.0->sentence-transformers) (2025.9.18)\n",
      "Requirement already satisfied: tokenizers<=0.23.0,>=0.22.0 in g:\\datascienceprojects\\rag-chatbot-ai\\graph-rag-neo4j-langchain-groq-llm\\graph-rag-01\\lib\\site-packages (from transformers<5.0.0,>=4.41.0->sentence-transformers) (0.22.1)\n",
      "Requirement already satisfied: safetensors>=0.4.3 in g:\\datascienceprojects\\rag-chatbot-ai\\graph-rag-neo4j-langchain-groq-llm\\graph-rag-01\\lib\\site-packages (from transformers<5.0.0,>=4.41.0->sentence-transformers) (0.6.2)\n",
      "Requirement already satisfied: joblib>=1.2.0 in g:\\datascienceprojects\\rag-chatbot-ai\\graph-rag-neo4j-langchain-groq-llm\\graph-rag-01\\lib\\site-packages (from scikit-learn->sentence-transformers) (1.5.2)\n",
      "Requirement already satisfied: threadpoolctl>=3.1.0 in g:\\datascienceprojects\\rag-chatbot-ai\\graph-rag-neo4j-langchain-groq-llm\\graph-rag-01\\lib\\site-packages (from scikit-learn->sentence-transformers) (3.6.0)\n",
      "Requirement already satisfied: mpmath<1.4,>=1.1.0 in g:\\datascienceprojects\\rag-chatbot-ai\\graph-rag-neo4j-langchain-groq-llm\\graph-rag-01\\lib\\site-packages (from sympy>=1.13.3->torch>=1.11.0->sentence-transformers) (1.3.0)\n",
      "Requirement already satisfied: MarkupSafe>=2.0 in g:\\datascienceprojects\\rag-chatbot-ai\\graph-rag-neo4j-langchain-groq-llm\\graph-rag-01\\lib\\site-packages (from jinja2->torch>=1.11.0->sentence-transformers) (3.0.3)\n",
      "Requirement already satisfied: charset_normalizer<4,>=2 in g:\\datascienceprojects\\rag-chatbot-ai\\graph-rag-neo4j-langchain-groq-llm\\graph-rag-01\\lib\\site-packages (from requests->huggingface-hub>=0.20.0->sentence-transformers) (3.4.3)\n",
      "Requirement already satisfied: idna<4,>=2.5 in g:\\datascienceprojects\\rag-chatbot-ai\\graph-rag-neo4j-langchain-groq-llm\\graph-rag-01\\lib\\site-packages (from requests->huggingface-hub>=0.20.0->sentence-transformers) (3.10)\n",
      "Requirement already satisfied: urllib3<3,>=1.21.1 in g:\\datascienceprojects\\rag-chatbot-ai\\graph-rag-neo4j-langchain-groq-llm\\graph-rag-01\\lib\\site-packages (from requests->huggingface-hub>=0.20.0->sentence-transformers) (2.5.0)\n",
      "Requirement already satisfied: certifi>=2017.4.17 in g:\\datascienceprojects\\rag-chatbot-ai\\graph-rag-neo4j-langchain-groq-llm\\graph-rag-01\\lib\\site-packages (from requests->huggingface-hub>=0.20.0->sentence-transformers) (2025.10.5)\n"
     ]
    },
    {
     "name": "stderr",
     "output_type": "stream",
     "text": [
      "\n",
      "[notice] A new release of pip is available: 23.2.1 -> 25.2\n",
      "[notice] To update, run: python.exe -m pip install --upgrade pip\n"
     ]
    }
   ],
   "source": [
    "!pip install sentence-transformers"
   ]
  },
  {
   "cell_type": "code",
   "execution_count": 29,
   "id": "d949d8fa",
   "metadata": {},
   "outputs": [
    {
     "name": "stderr",
     "output_type": "stream",
     "text": [
      "C:\\Users\\Chandra\\AppData\\Local\\Temp\\ipykernel_1132\\4245380074.py:13: LangChainDeprecationWarning: The class `HuggingFaceEmbeddings` was deprecated in LangChain 0.2.2 and will be removed in 1.0. An updated version of the class exists in the :class:`~langchain-huggingface package and should be used instead. To use it run `pip install -U :class:`~langchain-huggingface` and import as `from :class:`~langchain_huggingface import HuggingFaceEmbeddings``.\n",
      "  embeddings = HuggingFaceEmbeddings(model_name=\"sentence-transformers/all-MiniLM-L6-v2\")\n"
     ]
    }
   ],
   "source": [
    "from langchain_community.vectorstores import Neo4jVector\n",
    "from langchain.embeddings import HuggingFaceEmbeddings\n",
    "from neo4j import GraphDatabase\n",
    "from dotenv import load_dotenv\n",
    "import os\n",
    "\n",
    "load_dotenv()\n",
    "\n",
    "uri = os.getenv(\"NEO4J_URL\")\n",
    "user = os.getenv(\"NEO4J_USERNAME\")\n",
    "password = os.getenv(\"NEO4J_PASSWORD\")\n",
    "\n",
    "embeddings = HuggingFaceEmbeddings(model_name=\"sentence-transformers/all-MiniLM-L6-v2\")\n",
    "\n",
    "vector_index = Neo4jVector.from_existing_graph(\n",
    "    embedding=embeddings,\n",
    "    url=uri,\n",
    "    username=user,\n",
    "    password=password,\n",
    "    search_type=\"hybrid\",\n",
    "    node_label=\"Document\",\n",
    "    text_node_properties=[\"text\"],\n",
    "    embedding_node_property=\"embedding\"\n",
    ")\n",
    "\n"
   ]
  },
  {
   "cell_type": "code",
   "execution_count": 30,
   "id": "96a19312",
   "metadata": {},
   "outputs": [
    {
     "name": "stderr",
     "output_type": "stream",
     "text": [
      "Received notification from DBMS server: {severity: WARNING} {code: Neo.ClientNotification.Statement.FeatureDeprecationWarning} {category: DEPRECATION} {title: This feature is deprecated and will be removed in future versions.} {description: CALL subquery without a variable scope clause is now deprecated. Use CALL () { ... }} {position: line: 1, column: 1, offset: 0} for query: \"CALL { CALL db.index.vector.queryNodes($index, $k, $embedding) YIELD node, score WITH collect({node:node, score:score}) AS nodes, max(score) AS max UNWIND nodes AS n RETURN n.node AS node, (n.score / max) AS score UNION CALL db.index.fulltext.queryNodes($keyword_index, $query, {limit: $k}) YIELD node, score WITH collect({node:node, score:score}) AS nodes, max(score) AS max UNWIND nodes AS n RETURN n.node AS node, (n.score / max) AS score } WITH node, max(score) AS score ORDER BY score DESC LIMIT $k RETURN reduce(str='', k IN ['text'] | str + '\\\\n' + k + ': ' + coalesce(node[k], '')) AS text, node {.*, `embedding`: Null, id: Null, `text`: Null} AS metadata, score\"\n"
     ]
    },
    {
     "name": "stdout",
     "output_type": "stream",
     "text": [
      "\n",
      "text: Elizabeth or Elizaveta Petrovna (Russian: Елизаве́та Петро́вна; 29 December [O.S. 18 December] 1709 – 5 January [O.S. 25 December] 1762) was Empress of Russia from 1741 until her death in 1762. She remains one of the most popular Russian monarchs because of her decision not to execute a single person during her reign, her numerous construction projects, and her strong opposition to Prussian policies. She was the last person on the agnatic line of the Romanovs as her nephew ascended, thus creating the house of Holstein-Gottorp-Romanov.\n",
      "The second-eldest daughter of Tsar Peter the Great (r. 1682–1725), Elizabeth lived through the confused successions of her father's descendants following her half-brother Alexei's death in 1718. The throne first passed to her mother Catherine I of Russia (r. 1725–1727), then to her nephew Peter II, who died in 1730 and was succeeded by Elizabeth's first cousin Anna (r. 1730–1740). After the brief rule of Anna's infant great-nephew, Ivan VI, Elizabeth seized the throne with the military's support and declared her own nephew, the future Peter III, her heir.\n",
      "During her reign Elizabeth continued the policies of her father and brought about a remarkable Age of Enlightenment in Russia. Her domestic policies allowed the nobles to gain dominance in local government while shortening their terms of service to the state. She encouraged Mikhail Lomonosov's foundation of the University of Moscow, the highest-ranking Russian educational institution. Her court became one of the most splendid in all Europe, especially regarding architecture: she modernised Russia's roads, encouraged Ivan Shuvalov's foundation of the Imperial Academy of Arts, and financed grandiose Baroque projects of her favourite architect, Bartolomeo Rastrelli, particularly in Peterhof Palace. The Winter Palace and the Smolny Cathedral in Saint Petersburg are among the chief monuments of her reign.\n",
      "Elizabeth led the Russian Empire during the two major European conflicts of her time: the War of Austrian Succession (1740–1748) and the Seven Years' War (1756–1763). She and diplomat Aleksey Bestuzhev-Ryumin solved the first event by forming an\n",
      "\n",
      "text: 56–1763). She and diplomat Aleksey Bestuzhev-Ryumin solved the first event by forming an alliance with Austria and France, but indirectly caused the second. Russian troops enjoyed several victories against Prussia and briefly occupied Berlin, but when Frederick the Great was finally considering surrender in January 1762, the Russian Empress died. She was the last agnatic member of the House of Romanov to reign over the Russian Empire.\n",
      "\n",
      "\n",
      "== Early life ==\n",
      "\n",
      "\n",
      "=== Childhood and teenage years ===\n",
      "\n",
      "Elizabeth was born at Kolomenskoye, near Moscow, Russia, on 18 December 1709 (O.S.). Her parents were Peter the Great, Tsar of Russia and Catherine. Catherine was the daughter of Samuel Skowroński, a subject of Grand Duchy of Lithuania. Although no documentary record exists, her parents were said to have married secretly at the Cathedral of the Holy Trinity in Saint Petersburg at some point between 23 October and 1 December 1707. Their official marriage was at Saint Isaac's Cathedral in Saint Petersburg on 9 February 1712. On this day, the two children previously born to the couple (Anna and Elizabeth) were legitimised by their father and given the title of Tsarevna (\"princess\") on 6 March 1711. Of the twelve children born to Peter and Catherine (five sons and seven daughters), only the sisters survived to adulthood. They had one older surviving sibling, crown prince Alexei Petrovich, who was Peter's son by his first wife, noblewoman Eudoxia Lopukhina.\n",
      "\n",
      "As a child, Elizabeth was the favourite of her father, whom she resembled both physically and temperamentally. Even though he adored his daughter, Peter did not devote time or attention to her education; having both a son and grandson from his first marriage to a noblewoman, he did not anticipate that a daughter born to his former maid might one day inherit the Russian throne, which had until that point never been occupied by a woman; as such, it was left to \n",
      "\n",
      "text: The House of Tudor ( TEW-dər) was an English and Welsh dynasty that held the throne of England from 1485 to 1603. They descended ultimately from Ednyfed Fychan and the Tudors of Penmynydd, a Welsh noble family, and Catherine of Valois. The Tudor monarchs were also descended from the House of Lancaster. They ruled the Kingdom of England and the Lordship of Ireland (later the Kingdom of Ireland) for 118 years with five monarchs: Henry VII, Henry VIII, Edward VI, Mary I and Elizabeth I. The Tudors succeeded the House of Plantagenet as rulers of the Kingdom of England, and were succeeded by the Scottish House of Stuart. The first Tudor monarch, Henry VII, descended through his mother from the House of Beaufort, a legitimised branch of the English royal House of Lancaster, a cadet house of the Plantagenets. The Tudor family rose to power and started the Tudor period in the wake of the Wars of the Roses (1455–1487), which left the main House of Lancaster (with which the Tudors were aligned) extinct in the male line.\n",
      "Henry VII (a descendant of Edward III, and the son of Edmund Tudor, a half-brother of Henry VI) succeeded in presenting himself as a candidate not only for traditional Lancastrian supporters, but also for discontented supporters of their rival Plantagenet cadet House of York, and he took the throne by right of conquest. Following his victory at the Battle of Bosworth Field (22 August 1485), he reinforced his position in 1486 by fulfilling his 1483 vow to marry Elizabeth of York, daughter of King Edward IV and the heiress of the Yorkist claim to the throne, thus symbolically uniting the former warring factions of Lancaster and York under the new dynasty (represented by the Tudor rose). The Tudors extended their power beyond modern England, achieving the full union of England and the Principality of Wales in 1542 (Laws in Wales Acts 1535 and 1542), and successfully asserting English authority over the Kingdom of Ireland (proclaimed by the Crown of Ireland Act 1542). They also maintained the nominal English claim to the Kingdom of France; although none of them made substance of it, Henry VIII fought wars with France primarily as a matter of international alliances but also asserting claim to the title. After him, his daughter Mary I lost control of all territory in France permanently with the Siege of\n",
      "\n",
      "text:  poorly resourced military campaigns in the Netherlands, France, and Ireland. By the mid-1580s, England could no longer avoid war with Spain.\n",
      "As she grew older, Elizabeth became celebrated for her virginity. A cult of personality grew around her which was celebrated in the portraits, pageants, and literature of the day. The Elizabethan era is famous for the flourishing of English drama, led by playwrights such as William Shakespeare and Christopher Marlowe, the prowess of English maritime adventurers, such as Francis Drake and Walter Raleigh, and for the defeat of the Spanish Armada. Some historians depict Elizabeth as a short-tempered, sometimes indecisive ruler, who enjoyed more than her fair share of luck. Towards the end of her reign, a series of economic and military problems weakened her popularity. Elizabeth is acknowledged as a charismatic performer and a dogged survivor in an era when government was ramshackle and limited, and when monarchs in neighbouring countries faced internal problems and religious civil wars that jeopardised their thrones. After the short, disastrous reigns of her half-siblings, her 44 years on the throne provided welcome stability for the kingdom and helped to forge a sense of national identity.\n",
      "\n",
      "\n",
      "== Early life ==\n",
      "\n",
      "Elizabeth was born at Greenwich Palace on 7 September 1533 and was named after her grandmothers, Elizabeth of York and Lady Elizabeth Howard. She was the second child of Henry VIII of England born in wedlock to survive infancy. Her mother was Henry VIII's second wife, Anne Boleyn. At birth, Elizabeth was the heir presumptive to the English throne. Her elder half-sis\n",
      "\n",
      "text: Elizabeth I (7 September 1533 – 24 March 1603) was Queen of England and Ireland from 17 November 1558 until her death in 1603. She was the last and longest reigning monarch of the House of Tudor. Her eventful reign, and its effect on history and culture, gave name to the Elizabethan era.\n",
      "Elizabeth was the only surviving child of Henry VIII and his second wife, Anne Boleyn. When Elizabeth was two years old, her parents' marriage was annulled, her mother was executed, and Elizabeth was declared illegitimate. Henry restored her to the line of succession when she was 10. After Henry's death in 1547, Elizabeth's younger half-brother Edward VI ruled until his own death in 1553, bequeathing the crown to a Protestant cousin, Lady Jane Grey, and ignoring the claims of his two half-sisters, Mary and Elizabeth, despite statutes to the contrary. Edward's will was quickly set aside and the Catholic Mary became queen, deposing Jane. During Mary's reign, Elizabeth was imprisoned for nearly a year on suspicion of supporting Protestant rebels.\n",
      "Upon Mary's 1558 death, Elizabeth succeeded to the throne and set out to rule by good counsel. She depended heavily on a group of trusted advisers led by William Cecil, whom she created Baron Burghley. One of her first actions as queen was the establishment of an English Protestant church, of which she became the supreme governor. This arrangement, later named the Elizabethan Religious Settlement, would evolve into the Church of England. It was expected that Elizabeth would marry and produce an heir; however, despite numerous courtships, she never did. Because of this she is sometimes referred to as the \"Virgin Queen\". She was succeeded by her cousin, James VI of Scotland.\n",
      "In government, Elizabeth was more moderate than her father and siblings had been. One of her mottoes was video et taceo (\"I see and keep silent\"). In religion, she was relatively tolerant and avoided systematic persecution. After the pope declared her illegitimate in 1570, which in theory released English Catholics from allegiance to her, several conspiracies threatened her life, all of which were defeated with the help of her ministers' secret service, run by Francis Walsingham. Elizabeth was cautious in foreign affairs, manoeuvring between the major powers of France and Spain. She half-heartedly supported a number of ineffective, poorly resourced military campaigns in the Netherlands, France, and Ireland. By the mid-1580s, England could no\n"
     ]
    }
   ],
   "source": [
    "# Now you can retrieve\n",
    "docs = vector_index.similarity_search(\"Explain LangChain + Groq\", k=5)\n",
    "for d in docs:\n",
    "    print(d.page_content)\n"
   ]
  },
  {
   "cell_type": "code",
   "execution_count": 33,
   "id": "bedbaa87",
   "metadata": {},
   "outputs": [
    {
     "name": "stderr",
     "output_type": "stream",
     "text": [
      "g:\\DataScienceProjects\\RAG-chatbot-AI\\GRAPH-RAG-Neo4J-Langchain-GROQ-llm\\graph-rag-01\\Lib\\site-packages\\IPython\\core\\interactiveshell.py:3699: LangChainDeprecationWarning: As of langchain-core 0.3.0, LangChain uses pydantic v2 internally. The langchain_core.pydantic_v1 module was a compatibility shim for pydantic v1, and should no longer be used. Please update the code to import from Pydantic directly.\n",
      "\n",
      "For example, replace imports like: `from langchain_core.pydantic_v1 import BaseModel`\n",
      "with: `from pydantic import BaseModel`\n",
      "or the v1 compatibility namespace if you are working in a code base that has not been fully upgraded to pydantic 2 yet. \tfrom pydantic.v1 import BaseModel\n",
      "\n",
      "  exec(code_obj, self.user_global_ns, self.user_ns)\n"
     ]
    }
   ],
   "source": [
    "from langchain_core.pydantic_v1 import BaseModel, Field\n",
    "from typing import List\n",
    "\n",
    "#extract entities from text\n",
    "class Entities(BaseModel):\n",
    "    \"\"\"Identifying information about entities\"\"\"\n",
    "    names: List[str] = Field(..., description=\"All the person, organization, or business entities that appear in text\")"
   ]
  },
  {
   "cell_type": "code",
   "execution_count": 39,
   "id": "c0667ef4",
   "metadata": {},
   "outputs": [],
   "source": [
    "from langchain_core.prompts import ChatPromptTemplate\n",
    "from langchain_core.prompts.prompt import PromptTemplate\n",
    "\n",
    "prompt = ChatPromptTemplate.from_messages(\n",
    "    [\n",
    "        (\n",
    "            \"system\",\n",
    "            \"You are extracting organization and person entities from the text.\",\n",
    "        ),\n",
    "        (\n",
    "            \"human\",\n",
    "            \"Use the given format to extract information from the following \"\n",
    "            \"input: {question}\",\n",
    "        ),\n",
    "    ]\n",
    ")"
   ]
  },
  {
   "cell_type": "code",
   "execution_count": 34,
   "id": "7059dd55",
   "metadata": {},
   "outputs": [],
   "source": [
    "entity_chain = prompt | llm.with_structured_output(Entities)"
   ]
  },
  {
   "cell_type": "code",
   "execution_count": 35,
   "id": "48e38045",
   "metadata": {},
   "outputs": [
    {
     "data": {
      "text/plain": [
       "['Amelia Earhart']"
      ]
     },
     "execution_count": 35,
     "metadata": {},
     "output_type": "execute_result"
    }
   ],
   "source": [
    "entity_chain.invoke({\"question\": \"Where was Amelia Earhart born?\"}).names"
   ]
  },
  {
   "cell_type": "code",
   "execution_count": 36,
   "id": "cfd61cbc",
   "metadata": {},
   "outputs": [],
   "source": [
    "import re\n",
    "\n",
    "def remove_lucene_chars(text: str) -> str:\n",
    "    \"\"\"Remove characters that might break Lucene syntax in Neo4j fulltext queries.\"\"\"\n",
    "    return re.sub(r'[-+!(){}[\\]^\"~*?:\\\\/]|&&|\\|\\|', ' ', text)\n",
    "\n",
    "def generate_full_text_query(input: str) -> str:\n",
    "    cleaned = remove_lucene_chars(input)\n",
    "    words = [word.strip() for word in cleaned.split() if word.strip()]\n",
    "    \n",
    "    if not words:\n",
    "        return \"\"\n",
    "\n",
    "    query_parts = [f\"{word}~2\" for word in words]\n",
    "    return \" AND \".join(query_parts)\n"
   ]
  },
  {
   "cell_type": "code",
   "execution_count": 37,
   "id": "8c17000b",
   "metadata": {},
   "outputs": [],
   "source": [
    "def structured_retriever(question: str) -> str:\n",
    "    result = \"\"\n",
    "    \n",
    "    # Step 1: Get entities from question\n",
    "    entities = entity_chain.invoke({\"question\": question})\n",
    "\n",
    "    # Step 2: For each entity, search Neo4j fulltext index\n",
    "    for entity in entities.names:\n",
    "        fulltext_query = generate_full_text_query(entity)\n",
    "        \n",
    "        cypher = \"\"\"\n",
    "        CALL db.index.fulltext.queryNodes('entity', $query, {limit: 2})\n",
    "        YIELD node, score\n",
    "        \n",
    "        CALL {\n",
    "            WITH node\n",
    "            MATCH (node)-[r]->(neighbor)\n",
    "            WHERE type(r) <> 'MENTIONS'\n",
    "            RETURN node.id + ' -[' + type(r) + ']-> ' + neighbor.id AS output\n",
    "            UNION ALL\n",
    "            WITH node\n",
    "            MATCH (node)<-[r]-(neighbor)\n",
    "            WHERE type(r) <> 'MENTIONS'\n",
    "            RETURN neighbor.id + ' <-[' + type(r) + ']- ' + node.id AS output\n",
    "        }\n",
    "        \n",
    "        RETURN output\n",
    "        LIMIT 50\n",
    "        \"\"\"\n",
    "        \n",
    "        try:\n",
    "            response = graph.query(cypher, {\"query\": fulltext_query})\n",
    "            result += f\"\\n🔎 Entity: {entity}\\n\"\n",
    "            result += \"\\n\".join(el[\"output\"] for el in response) + \"\\n\"\n",
    "        except Exception as e:\n",
    "            result += f\"\\n⚠️ Error querying entity '{entity}': {e}\\n\"\n",
    "\n",
    "    return result.strip()\n"
   ]
  },
  {
   "cell_type": "code",
   "execution_count": 38,
   "id": "b0bfa30d",
   "metadata": {},
   "outputs": [
    {
     "name": "stdout",
     "output_type": "stream",
     "text": [
      "⚠️ Error querying entity 'Elizabeth I': {code: Neo.ClientError.Procedure.ProcedureCallFailed} {message: Failed to invoke procedure `db.index.fulltext.queryNodes`: Caused by: java.lang.IllegalArgumentException: There is no such fulltext schema index: entity}\n"
     ]
    }
   ],
   "source": [
    "print(structured_retriever(\"Who is Elizabeth I?\"))"
   ]
  },
  {
   "cell_type": "code",
   "execution_count": 40,
   "id": "6366b1a7",
   "metadata": {},
   "outputs": [],
   "source": [
    "def retriever(question: str):\n",
    "    print(f\"Search query: {question}\")\n",
    "    structured_data = structured_retriever(question)\n",
    "    unstructured_data = [el.page_content for el in vector_index.similarity_search(question)]\n",
    "    final_data = f\"\"\"Structured data:\n",
    "{structured_data}\n",
    "Unstructured data:\n",
    "{\"#Document \". join(unstructured_data)}\n",
    "    \"\"\"\n",
    "    return final_data"
   ]
  },
  {
   "cell_type": "code",
   "execution_count": 41,
   "id": "8f6afadf",
   "metadata": {},
   "outputs": [],
   "source": [
    "_template = \"\"\"Given the following conversation and a follow up question, rephrase the follow up question to be a standalone question,\n",
    "in its original language.\n",
    "Chat History:\n",
    "{chat_history}\n",
    "Follow Up Input: {question}\n",
    "Standalone question:\"\"\"\n",
    "     "
   ]
  },
  {
   "cell_type": "code",
   "execution_count": 42,
   "id": "74aa1cc1",
   "metadata": {},
   "outputs": [],
   "source": [
    "CONDENSE_QUESTION_PROMPT = PromptTemplate.from_template(_template)"
   ]
  },
  {
   "cell_type": "code",
   "execution_count": 52,
   "id": "9c29642c",
   "metadata": {},
   "outputs": [],
   "source": [
    "from langchain_core.runnables import RunnableBranch, RunnableLambda, RunnablePassthrough, RunnableParallel\n",
    "from langchain_core.output_parsers import StrOutputParser\n",
    "from langchain_core.prompts import ChatPromptTemplate\n",
    "from langchain_groq import ChatGroq\n",
    "from dotenv import load_dotenv\n",
    "import os\n",
    "\n",
    "# Load environment variables (make sure your .env has GROQ_API_KEY)\n",
    "load_dotenv()\n",
    "\n",
    "# Step 1: Initialize ChatGroq\n",
    "llm = ChatGroq(\n",
    "    model=\"llama-3.3-70b-versatile\",  # Replace with model available in your Groq account\n",
    "    temperature=0\n",
    ")\n",
    "\n",
    "# Step 2: Define a format for the chat history\n",
    "from typing import List, Tuple\n",
    "\n",
    "def _format_chat_history(chat_history: List[Tuple[str, str]]) -> List[str]:\n",
    "    buffer = []\n",
    "    for human, ai in chat_history:\n",
    "        buffer.append(f\"Human: {human}\")\n",
    "        buffer.append(f\"AI: {ai}\")\n",
    "    return buffer\n",
    "\n",
    "# Step 3: Define the question condensing prompt\n",
    "CONDENSE_QUESTION_PROMPT = ChatPromptTemplate.from_messages([\n",
    "    (\"system\", \"You are a helpful assistant that rewrites follow-up questions into standalone questions.\"),\n",
    "    (\"human\", \"{chat_history}\\nFollow-up question: {question}\")\n",
    "])\n",
    "\n",
    "# Step 4: Final `_search_query` using ChatGroq\n",
    "_search_query = RunnableBranch(\n",
    "    (\n",
    "        RunnableLambda(lambda x: bool(x.get(\"chat_history\"))).with_config(\n",
    "            run_name=\"HasChatHistoryCheck\"\n",
    "        ),\n",
    "        RunnablePassthrough.assign(\n",
    "            chat_history=lambda x: _format_chat_history(x[\"chat_history\"])\n",
    "        )\n",
    "        | CONDENSE_QUESTION_PROMPT\n",
    "        | llm\n",
    "        | StrOutputParser(),\n",
    "    ),\n",
    "    RunnableLambda(lambda x: x[\"question\"]),\n",
    ")\n",
    "\n",
    "\n",
    "template = \"\"\"Answer the question based only on the following context:\n",
    "{context}\n",
    "\n",
    "Question: {question}\n",
    "Use natural language and be concise.\n",
    "Answer:\"\"\"\n",
    "\n",
    "prompt = ChatPromptTemplate.from_template(template)\n",
    "\n",
    "chain = (\n",
    "    RunnableParallel(\n",
    "        {\n",
    "            \"context\": _search_query | retriever,\n",
    "            \"question\": RunnablePassthrough(),\n",
    "        }\n",
    "    )\n",
    "    | prompt\n",
    "    | llm\n",
    "    | StrOutputParser()\n",
    ")"
   ]
  },
  {
   "cell_type": "code",
   "execution_count": 53,
   "id": "296143c8",
   "metadata": {},
   "outputs": [
    {
     "name": "stdout",
     "output_type": "stream",
     "text": [
      "Search query: Which house did Elizabeth I belong to?\n"
     ]
    },
    {
     "name": "stderr",
     "output_type": "stream",
     "text": [
      "Received notification from DBMS server: {severity: WARNING} {code: Neo.ClientNotification.Statement.FeatureDeprecationWarning} {category: DEPRECATION} {title: This feature is deprecated and will be removed in future versions.} {description: CALL subquery without a variable scope clause is now deprecated. Use CALL () { ... }} {position: line: 1, column: 1, offset: 0} for query: \"CALL { CALL db.index.vector.queryNodes($index, $k, $embedding) YIELD node, score WITH collect({node:node, score:score}) AS nodes, max(score) AS max UNWIND nodes AS n RETURN n.node AS node, (n.score / max) AS score UNION CALL db.index.fulltext.queryNodes($keyword_index, $query, {limit: $k}) YIELD node, score WITH collect({node:node, score:score}) AS nodes, max(score) AS max UNWIND nodes AS n RETURN n.node AS node, (n.score / max) AS score } WITH node, max(score) AS score ORDER BY score DESC LIMIT $k RETURN reduce(str='', k IN ['text'] | str + '\\\\n' + k + ': ' + coalesce(node[k], '')) AS text, node {.*, `embedding`: Null, id: Null, `text`: Null} AS metadata, score\"\n"
     ]
    },
    {
     "data": {
      "text/plain": [
       "'The House of Tudor.'"
      ]
     },
     "execution_count": 53,
     "metadata": {},
     "output_type": "execute_result"
    }
   ],
   "source": [
    "chain.invoke({\"question\": \"Which house did Elizabeth I belong to?\"})"
   ]
  },
  {
   "cell_type": "code",
   "execution_count": 54,
   "id": "e1acd0b9",
   "metadata": {},
   "outputs": [
    {
     "name": "stdout",
     "output_type": "stream",
     "text": [
      "Search query: What was the birth date of Elizabeth I?\n"
     ]
    },
    {
     "name": "stderr",
     "output_type": "stream",
     "text": [
      "Received notification from DBMS server: {severity: WARNING} {code: Neo.ClientNotification.Statement.FeatureDeprecationWarning} {category: DEPRECATION} {title: This feature is deprecated and will be removed in future versions.} {description: CALL subquery without a variable scope clause is now deprecated. Use CALL () { ... }} {position: line: 1, column: 1, offset: 0} for query: \"CALL { CALL db.index.vector.queryNodes($index, $k, $embedding) YIELD node, score WITH collect({node:node, score:score}) AS nodes, max(score) AS max UNWIND nodes AS n RETURN n.node AS node, (n.score / max) AS score UNION CALL db.index.fulltext.queryNodes($keyword_index, $query, {limit: $k}) YIELD node, score WITH collect({node:node, score:score}) AS nodes, max(score) AS max UNWIND nodes AS n RETURN n.node AS node, (n.score / max) AS score } WITH node, max(score) AS score ORDER BY score DESC LIMIT $k RETURN reduce(str='', k IN ['text'] | str + '\\\\n' + k + ': ' + coalesce(node[k], '')) AS text, node {.*, `embedding`: Null, id: Null, `text`: Null} AS metadata, score\"\n"
     ]
    },
    {
     "data": {
      "text/plain": [
       "'Elizabeth I was born on 7 September 1533.'"
      ]
     },
     "execution_count": 54,
     "metadata": {},
     "output_type": "execute_result"
    }
   ],
   "source": [
    "chain.invoke(\n",
    "    {\n",
    "        \"question\": \"When was she born?\",\n",
    "        \"chat_history\": [(\"Which house did Elizabeth I belong to?\", \"House Of Tudor\")],\n",
    "    }\n",
    ")\n",
    "     "
   ]
  },
  {
   "cell_type": "code",
   "execution_count": null,
   "id": "c91d268d",
   "metadata": {},
   "outputs": [
    {
     "ename": "NameError",
     "evalue": "name 'RunnableParallel' is not defined",
     "output_type": "error",
     "traceback": [
      "\u001b[31m---------------------------------------------------------------------------\u001b[39m",
      "\u001b[31mNameError\u001b[39m                                 Traceback (most recent call last)",
      "\u001b[36mCell\u001b[39m\u001b[36m \u001b[39m\u001b[32mIn[50]\u001b[39m\u001b[32m, line 2\u001b[39m\n\u001b[32m      1\u001b[39m chain = (\n\u001b[32m----> \u001b[39m\u001b[32m2\u001b[39m     \u001b[43mRunnableParallel\u001b[49m(\n\u001b[32m      3\u001b[39m         {\n\u001b[32m      4\u001b[39m             \u001b[33m\"\u001b[39m\u001b[33mcontext\u001b[39m\u001b[33m\"\u001b[39m: _search_query | retriever,\n\u001b[32m      5\u001b[39m             \u001b[33m\"\u001b[39m\u001b[33mquestion\u001b[39m\u001b[33m\"\u001b[39m: RunnablePassthrough(),\n\u001b[32m      6\u001b[39m         }\n\u001b[32m      7\u001b[39m     )\n\u001b[32m      8\u001b[39m     | prompt\n\u001b[32m      9\u001b[39m     | llm\n\u001b[32m     10\u001b[39m     | StrOutputParser()\n\u001b[32m     11\u001b[39m )\n",
      "\u001b[31mNameError\u001b[39m: name 'RunnableParallel' is not defined"
     ]
    }
   ],
   "source": []
  }
 ],
 "metadata": {
  "kernelspec": {
   "display_name": "graph-rag-01",
   "language": "python",
   "name": "python3"
  },
  "language_info": {
   "codemirror_mode": {
    "name": "ipython",
    "version": 3
   },
   "file_extension": ".py",
   "mimetype": "text/x-python",
   "name": "python",
   "nbconvert_exporter": "python",
   "pygments_lexer": "ipython3",
   "version": "3.11.7"
  }
 },
 "nbformat": 4,
 "nbformat_minor": 5
}
